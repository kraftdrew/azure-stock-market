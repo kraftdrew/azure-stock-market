{
 "cells": [
  {
   "cell_type": "code",
   "execution_count": 1,
   "metadata": {},
   "outputs": [],
   "source": [
    "import sys, os\n",
    "from pyspark.sql.functions import col, monotonically_increasing_id, expr, date_format, sha2, concat_ws\n",
    "from delta.tables import DeltaTable\n",
    "from datetime import date, timedelta\n",
    "\n",
    "\n",
    "# Insert the parent directory (one level up) onto Python’s module search path\n",
    "sys.path.insert(0, os.path.abspath(\"..\"))\n",
    "\n",
    "from dev_spark_session import DevSparkSession \n",
    "from helper_modules import SCDType2Handler, HelperMethods\n",
    "\n"
   ]
  },
  {
   "cell_type": "markdown",
   "metadata": {},
   "source": [
    "### Initiate Spark"
   ]
  },
  {
   "cell_type": "code",
   "execution_count": 4,
   "metadata": {},
   "outputs": [],
   "source": [
    "\n",
    "# stockdata = GetStockData() \n",
    "spark = DevSparkSession().spark\n",
    "\n",
    "\n",
    "silver_path = \"/Users/PC/Desktop/VS Code Repositories/azure-stock-market/Code/Local development/Azure storage/Silver/delta-table\"  # Target location for Silver Delta table\n",
    "dim_symbol_path = \"/Users/PC/Desktop/VS Code Repositories/azure-stock-market/Code/Local development/Azure storage/Gold/delta-tables/dim-symbol\"\n",
    "dim_date_path = \"/Users/PC/Desktop/VS Code Repositories/azure-stock-market/Code/Local development/Azure storage/Gold/delta-tables/dim-date\"\n",
    "fact_daily_path = \"/Users/PC/Desktop/VS Code Repositories/azure-stock-market/Code/Local development/Azure storage/Gold/delta-tables/fact-daily-summary\"\n",
    "\n",
    "\n"
   ]
  },
  {
   "cell_type": "markdown",
   "metadata": {},
   "source": [
    "## Fact Trading Loader"
   ]
  },
  {
   "cell_type": "code",
   "execution_count": 5,
   "metadata": {},
   "outputs": [
    {
     "name": "stderr",
     "output_type": "stream",
     "text": [
      "25/04/27 12:43:23 WARN SparkStringUtils: Truncated the string representation of a plan since it was too large. This behavior can be adjusted by setting 'spark.sql.debug.maxToStringFields'.\n",
      "                                                                                \r"
     ]
    },
    {
     "name": "stdout",
     "output_type": "stream",
     "text": [
      "+---------+--------+----+---+----+-----+--------+-------------+--------------------+--------------------+--------------------+--------------+\n",
      "|SymbolSID|  Volume|High|Low|Open|Close|  DateID|__DeletedFlag|       __FactKeyHash| __CreatedBatchLogId|    __CreateDateTime|TransactionSID|\n",
      "+---------+--------+----+---+----+-----+--------+-------------+--------------------+--------------------+--------------------+--------------+\n",
      "|        1|48899500| 390|380| 384|  389|20211221|        false|442a292c8e7230d8b...|aa893b8c-eba7-415...|2025-04-27 12:43:...|           502|\n",
      "|        1|52545800| 398|393| 397|  398|20211210|        false|4ef81c23fa262901f...|aa893b8c-eba7-415...|2025-04-27 12:43:...|           503|\n",
      "|        1|36664900| 337|333| 334|  337|20210409|        false|2c5399bcd95ab6984...|aa893b8c-eba7-415...|2025-04-27 12:43:...|           504|\n",
      "|        1|33187200| 342|339| 342|  340|20210427|        false|10fe862d9b23ad3e7...|aa893b8c-eba7-415...|2025-04-27 12:43:...|           505|\n",
      "|        1|39204000| 400|396| 398|  400|20211208|        false|e8e0fa7ba7ed3306c...|aa893b8c-eba7-415...|2025-04-27 12:43:...|           506|\n",
      "|        1|59722700| 346|340| 340|  345|20210617|        false|94391e9fef21e3849...|aa893b8c-eba7-415...|2025-04-27 12:43:...|           507|\n",
      "|        1|32046400| 332|329| 330|  332|20210407|        false|337c5d3126262e6e5...|aa893b8c-eba7-415...|2025-04-27 12:43:...|           508|\n",
      "|        1|31360300| 336|330| 332|  334|20210217|        false|2a2cd42e69330a87c...|aa893b8c-eba7-415...|2025-04-27 12:43:...|           509|\n",
      "|        1|19336200| 369|367| 368|  369|20210813|        false|2c2901f25b473b7c9...|aa893b8c-eba7-415...|2025-04-27 12:43:...|           510|\n",
      "|        1|32724000| 355|354| 355|  354|20210630|        false|9ecaa170f585f7d63...|aa893b8c-eba7-415...|2025-04-27 12:43:...|           511|\n",
      "|        1|23500100| 318|314| 317|  314|20210114|        false|ea581edfc070a9318...|aa893b8c-eba7-415...|2025-04-27 12:43:...|           512|\n",
      "|        1|32581600| 351|349| 350|  350|20210624|        false|251741a9e841dbcff...|aa893b8c-eba7-415...|2025-04-27 12:43:...|           513|\n",
      "|        1|38081800| 340|334| 338|  336|20210420|        false|1c229e6b81e608b10...|aa893b8c-eba7-415...|2025-04-27 12:43:...|           514|\n",
      "|        1|33716900| 396|392| 396|  395|20211115|        false|9555b54f3018a3238...|aa893b8c-eba7-415...|2025-04-27 12:43:...|           515|\n",
      "|        1|29927400| 336|334| 334|  334|20210528|        false|3d8754eee4b2e8cdc...|aa893b8c-eba7-415...|2025-04-27 12:43:...|           516|\n",
      "|        1|37310100| 386|381| 381|  386|20211029|        false|87a614d1744db929c...|aa893b8c-eba7-415...|2025-04-27 12:43:...|           517|\n",
      "|        1|57933100| 368|360| 368|  364|20210727|        false|67ca1d3e055e0a9ca...|aa893b8c-eba7-415...|2025-04-27 12:43:...|           518|\n",
      "|        1|20462800| 334|331| 333|  334|20210208|        false|bc70c2c07fc040734...|aa893b8c-eba7-415...|2025-04-27 12:43:...|           519|\n",
      "|        1|29290000| 355|353| 354|  355|20210701|        false|40b706f580291a8c4...|aa893b8c-eba7-415...|2025-04-27 12:43:...|           520|\n",
      "|        1|27827700| 345|340| 342|  345|20210614|        false|6841ddd96001b77b0...|aa893b8c-eba7-415...|2025-04-27 12:43:...|           521|\n",
      "+---------+--------+----+---+----+-----+--------+-------------+--------------------+--------------------+--------------------+--------------+\n",
      "only showing top 20 rows\n",
      "\n",
      "Fact\n"
     ]
    }
   ],
   "source": [
    "df_silver = spark.read.format(\"delta\").load(silver_path)\n",
    "df_fact =  df_silver\n",
    "df_fact =  df_fact.withColumn(\"DateID\", date_format(col(\"Date\"), \"yyyyMMdd\").cast(\"int\")).drop(\"Date\")\n",
    "\n",
    "\n",
    "# Add Hash Key for Dim Symbol \n",
    "\n",
    "businessColumns  = [\"Symbol\", \"ExchangeName\", \"Currency\"] \n",
    "df_fact = df_fact.withColumn(\"DimSymbolBusinessHash\" , sha2( concat_ws(\"|\", *businessColumns), 256))\n",
    "\n",
    "\n",
    "\n",
    "df_dim_symbol = spark.table(f\"delta.`{dim_symbol_path}` \")\n",
    "\n",
    "df_fact = df_fact.alias(\"f\").join(df_dim_symbol.alias(\"d\"), on = expr(\"f.DimSymbolBusinessHash = d.__BusinessKeyHash\"), how = \"left\" ) \\\n",
    "                .where(\"d.__CurrentFlag = true\") \\\n",
    "                .selectExpr(\"d.SymbolSID\", \n",
    "                            \"f.Volume\", \n",
    "                            \"f.High\",\n",
    "                            \"f.Low\",\n",
    "                            \"f.Open\",\n",
    "                            \"f.Close\",\n",
    "                            \"f.DateID\"\n",
    "                )\n",
    "\n",
    "\n",
    "\n",
    "parameters = {\n",
    "        \"businessColumns\" : \"Symbol,ExchangeName,Currency\",\n",
    "        \"typeIColumns\" : \"\", \n",
    "        \"tableType\" : \"Fact\"\n",
    "        }\n",
    "\n",
    "scd2Handler =  SCDType2Handler(parameters)\n",
    "\n",
    "\n",
    "scd2Handler.refresh_timestamp()\n",
    "add_audit_columns =  scd2Handler.add_audit_columns\n",
    "df_fact = df_fact.transform(add_audit_columns)\n",
    "\n",
    "\n",
    "## ADD_SID\n",
    "\n",
    "sid_offest = spark.read.format(\"delta\").load(fact_daily_path)\n",
    "sid_offest = sid_offest.selectExpr(\"max(TransactionSID)\").head()[0]\n",
    "sid_offest = sid_offest + 1 if sid_offest else 0\n",
    "\n",
    "\n",
    "\n",
    "df_fact = df_fact.withColumn(\"TransactionSID\", monotonically_increasing_id() +  sid_offest)\n",
    "\n",
    "\n",
    "df_fact.show()\n",
    "deltaTable = DeltaTable.forPath(spark, fact_daily_path)\n",
    "scd2Handler.delta_merge_typeII(deltaTable, df_fact)\n",
    "\n",
    "\n"
   ]
  },
  {
   "cell_type": "code",
   "execution_count": 6,
   "metadata": {},
   "outputs": [
    {
     "name": "stdout",
     "output_type": "stream",
     "text": [
      "+----+--------+\n",
      "|year|count(1)|\n",
      "+----+--------+\n",
      "|2000|366     |\n",
      "|2001|365     |\n",
      "|2002|365     |\n",
      "|2003|365     |\n",
      "|2004|366     |\n",
      "|2005|365     |\n",
      "|2006|365     |\n",
      "|2007|365     |\n",
      "|2008|366     |\n",
      "|2009|365     |\n",
      "|2010|365     |\n",
      "|2011|365     |\n",
      "|2012|366     |\n",
      "|2013|365     |\n",
      "|2014|365     |\n",
      "|2015|365     |\n",
      "|2016|366     |\n",
      "|2017|365     |\n",
      "|2018|365     |\n",
      "|2019|365     |\n",
      "|2020|366     |\n",
      "|2021|365     |\n",
      "+----+--------+\n",
      "\n"
     ]
    }
   ],
   "source": [
    "df_history = spark.sql(f\" select   year , count(*)  from  delta.`{dim_date_path}` group by year   order by year asc \")\n",
    "\n",
    "\n",
    "df_history.show(100, truncate=False)"
   ]
  },
  {
   "cell_type": "markdown",
   "metadata": {},
   "source": [
    "## Populate Dim Table if needed"
   ]
  },
  {
   "cell_type": "code",
   "execution_count": null,
   "metadata": {},
   "outputs": [],
   "source": [
    "\n",
    "\n",
    "hm = HelperMethods(spark=spark)\n",
    "df_dimdate = spark.read.format(\"delta\").load(dim_date_path)  \n",
    "\n",
    "\n",
    "df_fact_daily = spark.read.format(\"delta\").load(fact_daily_path)  \n",
    "\n",
    "\n",
    "\n",
    "max_date_dimDate =  df_dimdate.selectExpr(\"cast(max(date) as date) as min_date\").head()[0]\n",
    "min_date_fact =  df_fact_daily.selectExpr(\"to_date(cast(min(DateID) as string), 'yyyyMMdd') as min_date\").head()[0]\n",
    "max_date_fact =  df_fact_daily.selectExpr(\"to_date(cast(max(DateID) as string), 'yyyyMMdd') as max_date\").head()[0]\n",
    "\n",
    "print(max_date_dimDate,min_date_fact, max_date_fact)\n",
    "\n",
    "## populate DimDate table if we dont have records with dates \n",
    "if min_date_fact > max_date_dimDate: \n",
    "    \n",
    "    print(\"work\")\n",
    "    \n",
    "    start_date = max_date_dimDate + timedelta(days=1)\n",
    "    end_date =  date( max_date_fact.year , 12, 31)\n",
    "    \n",
    "    hm.update_DimDate_fromRange(start_date, end_date )\n",
    "    print(f\"Dim Table Updated with date range [ {start_date} : {end_date} ] \")\n",
    "    \n",
    "    \n",
    "\n",
    "\n"
   ]
  }
 ],
 "metadata": {
  "kernelspec": {
   "display_name": ".venv",
   "language": "python",
   "name": "python3"
  },
  "language_info": {
   "codemirror_mode": {
    "name": "ipython",
    "version": 3
   },
   "file_extension": ".py",
   "mimetype": "text/x-python",
   "name": "python",
   "nbconvert_exporter": "python",
   "pygments_lexer": "ipython3",
   "version": "3.11.11"
  }
 },
 "nbformat": 4,
 "nbformat_minor": 2
}
