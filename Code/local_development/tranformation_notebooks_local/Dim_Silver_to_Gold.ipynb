{
 "cells": [
  {
   "cell_type": "code",
   "execution_count": null,
   "metadata": {},
   "outputs": [],
   "source": [
    "import sys, os\n",
    "from pyspark.sql.functions import  monotonically_increasing_id\n",
    "from delta.tables import DeltaTable\n",
    "\n",
    "# Insert the parent directory (one level up) onto Python’s module search path\n",
    "sys.path.insert(0, os.path.abspath(\"..\"))\n",
    "\n",
    "from dev_spark_session import DevSparkSession \n",
    "from scd_type2_handler import SCDType2Handler\n"
   ]
  },
  {
   "cell_type": "markdown",
   "metadata": {},
   "source": [
    "### Initiate Spark"
   ]
  },
  {
   "cell_type": "code",
   "execution_count": null,
   "metadata": {},
   "outputs": [],
   "source": [
    "\n",
    "# stockdata = GetStockData() \n",
    "spark = DevSparkSession().spark\n",
    "\n",
    "\n",
    "silver_path = \"/Users/PC/Desktop/VS Code Repositories/azure-stock-market/Azure storage/Silver/delta-table\"  # Target location for Silver Delta table\n",
    "dim_symbol_path = \"/Users/PC/Desktop/VS Code Repositories/azure-stock-market/Azure storage/Gold/delta-tables/dim-symbol\"\n",
    "fact_daily_path = \"/Users/PC/Desktop/VS Code Repositories/azure-stock-market/Azure storage/Gold/delta-tables/fact-daily-summary\"\n",
    "\n"
   ]
  },
  {
   "cell_type": "markdown",
   "metadata": {},
   "source": [
    "## Dim Symbol Loader"
   ]
  },
  {
   "cell_type": "code",
   "execution_count": null,
   "metadata": {},
   "outputs": [],
   "source": [
    "\n",
    "\n",
    "parameters = {\n",
    "        \"businessColumns\" : \"Symbol,ExchangeName,Currency\",\n",
    "        \"typeIColumns\" : \"\", \n",
    "        \"tableType\" : \"Dim\"\n",
    "        }\n",
    "scd2Handler =  SCDType2Handler(parameters)\n",
    "\n",
    "\n",
    "\n",
    "df_silver = spark.read.format(\"delta\").load(silver_path)\n",
    "df_dimSymbol =  df_silver.select(\"Symbol\",\"ExchangeName\",\"Currency\", \"Type\", \"ExchangeTimeZone\").distinct()\n",
    "scd2Handler.refresh_timestamp()\n",
    "\n",
    "# df_dimSymbol = df_dimSymbol.withColumn(\"Type\", concat(col(\"Type\"), lit(\"_test\") ) )\n",
    "\n",
    "add_audit_columns =  scd2Handler.add_audit_columns\n",
    "df_dimSymbol = df_dimSymbol.transform(add_audit_columns)\n",
    "sid_offest = spark.read.format(\"delta\").load(dim_symbol_path)\n",
    "sid_offest = sid_offest.selectExpr(\"max(SymbolSID)\").head()[0]\n",
    "sid_offest = sid_offest + 1 if sid_offest else 0\n",
    "\n",
    "\n",
    "\n",
    "df_dimSymbol = df_dimSymbol.withColumn(\"SymbolSID\", monotonically_increasing_id() +  sid_offest)\n",
    "spark.read.format(\"delta\").load(dim_symbol_path).show()\n",
    "df_dimSymbol.show(truncate=False)\n",
    "deltaTable = DeltaTable.forPath(spark, dim_symbol_path)\n",
    "scd2Handler.delta_merge_typeII(deltaTable, df_dimSymbol)\n"
   ]
  },
  {
   "cell_type": "code",
   "execution_count": null,
   "metadata": {},
   "outputs": [],
   "source": [
    "# df_history = spark.sql(f\" select *  from  delta.`{dim_symbol_path}`  \")\n",
    "\n",
    "  \n",
    "# df_history.show(truncate=False)"
   ]
  }
 ],
 "metadata": {
  "kernelspec": {
   "display_name": ".venv",
   "language": "python",
   "name": "python3"
  },
  "language_info": {
   "codemirror_mode": {
    "name": "ipython",
    "version": 3
   },
   "file_extension": ".py",
   "mimetype": "text/x-python",
   "name": "python",
   "nbconvert_exporter": "python",
   "pygments_lexer": "ipython3",
   "version": "3.11.11"
  }
 },
 "nbformat": 4,
 "nbformat_minor": 2
}
