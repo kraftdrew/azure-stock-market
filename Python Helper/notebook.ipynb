{
 "cells": [
  {
   "cell_type": "code",
   "execution_count": 4,
   "metadata": {},
   "outputs": [],
   "source": [
    "from dev_spark_session import DevSparkSession \n",
    "from get_stock_data import GetStockData\n",
    "from scd_type2_handler import SCDType2Handler\n",
    "\n",
    "stockdata = GetStockData() \n",
    "spark = DevSparkSession().spark\n"
   ]
  },
  {
   "cell_type": "code",
   "execution_count": 5,
   "metadata": {},
   "outputs": [],
   "source": [
    "from pyspark.sql.functions import col, explode # sha2,concat_ws,trim, lit"
   ]
  },
  {
   "cell_type": "code",
   "execution_count": 6,
   "metadata": {},
   "outputs": [
    {
     "name": "stdout",
     "output_type": "stream",
     "text": [
      "data saved for symbol QQQ and date range 2021-01-01 to 2021-12-31.\n",
      "data saved for symbol VOO and date range 2021-01-01 to 2021-12-31.\n"
     ]
    }
   ],
   "source": [
    "json_data  = stockdata.get_historical_stock_data()\n"
   ]
  },
  {
   "cell_type": "code",
   "execution_count": 7,
   "metadata": {},
   "outputs": [],
   "source": [
    "\n",
    "# df = spark.createDataFrame(json_data) \n",
    "\n",
    "# df = df.withColumn(\"symbol\", col(\"meta\").symbol).filter( col(\"status\") == \"ok\" ).drop(df.status)\n",
    "\n",
    "# df.show(truncate = False)\n",
    "\n",
    "\n"
   ]
  },
  {
   "cell_type": "code",
   "execution_count": 8,
   "metadata": {},
   "outputs": [],
   "source": [
    "\n",
    "# df.write \\\n",
    "#     .format(\"parquet\") \\\n",
    "#     .mode(\"overwrite\") \\\n",
    "#     .partitionBy( \"symbol\" ) \\\n",
    "#     .save(\"/Users/PC/Desktop/VS Code Repositories/azure-stock-market/Azure storage/Bronze\")\n"
   ]
  },
  {
   "cell_type": "markdown",
   "metadata": {},
   "source": [
    "### Bronze -> Silver"
   ]
  },
  {
   "cell_type": "code",
   "execution_count": 9,
   "metadata": {},
   "outputs": [
    {
     "name": "stdout",
     "output_type": "stream",
     "text": [
      "+------+------------+--------+----+----------------+--------+----------+---------+----------+----------+----------+\n",
      "|Symbol|ExchangeName|Currency|Type|ExchangeTimeZone|  Volume|      High|      Low|     Close|      Open|      Date|\n",
      "+------+------------+--------+----+----------------+--------+----------+---------+----------+----------+----------+\n",
      "|   QQQ|      NASDAQ|     USD| ETF|America/New_York|48899500| 389.53000|380.20001| 389.20999|384.049988|2021-12-21|\n",
      "|   QQQ|      NASDAQ|     USD| ETF|America/New_York|52545800| 398.28000|393.35999|398.010010| 396.62000|2021-12-10|\n",
      "|   QQQ|      NASDAQ|     USD| ETF|America/New_York|36664900| 337.32001|332.92001| 337.10999| 333.67999|2021-04-09|\n",
      "|   QQQ|      NASDAQ|     USD| ETF|America/New_York|33187200| 342.14999|339.17001| 340.14999| 341.92999|2021-04-27|\n",
      "|   QQQ|      NASDAQ|     USD| ETF|America/New_York|39204000| 399.82001|396.22000| 399.60999| 398.17001|2021-12-08|\n",
      "|   QQQ|      NASDAQ|     USD| ETF|America/New_York|59722700| 346.38000|339.92001| 345.34000| 339.97000|2021-06-17|\n",
      "|   QQQ|      NASDAQ|     USD| ETF|America/New_York|32046400| 332.48001|329.37000| 331.62000| 330.32999|2021-04-07|\n",
      "|   QQQ|      NASDAQ|     USD| ETF|America/New_York|31360300| 335.66000|330.17001| 333.92999| 332.47000|2021-02-17|\n",
      "|   QQQ|      NASDAQ|     USD| ETF|America/New_York|19336200| 369.16000|367.38000| 368.82001| 367.89001|2021-08-13|\n",
      "|   QQQ|      NASDAQ|     USD| ETF|America/New_York|32724000| 355.23001|353.82999| 354.42999| 354.82999|2021-06-30|\n",
      "|   QQQ|      NASDAQ|     USD| ETF|America/New_York|23500100| 317.53000|313.85999| 314.35001|     316.5|2021-01-14|\n",
      "|   QQQ|      NASDAQ|     USD| ETF|America/New_York|32581600| 351.45999|349.17001| 349.89001| 349.73001|2021-06-24|\n",
      "|   QQQ|      NASDAQ|     USD| ETF|America/New_York|38081800| 339.51999|334.38000| 336.41000| 338.20001|2021-04-20|\n",
      "|   QQQ|      NASDAQ|     USD| ETF|America/New_York|33716900| 396.23999|392.10001| 394.60999| 395.91000|2021-11-15|\n",
      "|   QQQ|      NASDAQ|     USD| ETF|America/New_York|29927400| 335.57001|333.60001| 333.92999| 334.12000|2021-05-28|\n",
      "|   QQQ|      NASDAQ|     USD| ETF|America/New_York|37310100| 386.28000|380.70001| 386.10999|381.059998|2021-10-29|\n",
      "|   QQQ|      NASDAQ|     USD| ETF|America/New_York|57933100| 368.22000|360.16000| 364.42999| 368.22000|2021-07-27|\n",
      "|   QQQ|      NASDAQ|     USD| ETF|America/New_York|20462800| 333.73999|331.41000| 333.57999| 333.10001|2021-02-08|\n",
      "|   QQQ|      NASDAQ|     USD| ETF|America/New_York|29290000|355.089996|352.67999| 354.57001|354.070007|2021-07-01|\n",
      "|   QQQ|      NASDAQ|     USD| ETF|America/New_York|27827700| 344.51999|340.45999| 344.51001| 341.67999|2021-06-14|\n",
      "+------+------------+--------+----+----------------+--------+----------+---------+----------+----------+----------+\n",
      "only showing top 20 rows\n",
      "\n"
     ]
    },
    {
     "name": "stderr",
     "output_type": "stream",
     "text": [
      "                                                                                \r"
     ]
    }
   ],
   "source": [
    "\n",
    "# from pyspark.sql.functions import current_timestamp, sha2, concat_ws\n",
    "# from pyspark.sql.functions import max, col,cast,unhex, hex\n",
    "\n",
    "\n",
    "# Paths for Bronze and Silver data\n",
    "bronze_path = \"/Users/PC/Desktop/VS Code Repositories/azure-stock-market/Azure storage/Bronze\"  # Bronze data stored in Parquet or Delta\n",
    "silver_path = \"/Users/PC/Desktop/VS Code Repositories/azure-stock-market/Azure storage/Silver/delta-table\"  # Target location for Silver Delta table\n",
    "\n",
    "stage_path = \"/Users/PC/Desktop/VS Code Repositories/azure-stock-market/Azure storage/Silver/stage-table\"  # Target location for Silver Delta table\n",
    "\n",
    "\n",
    "\n",
    "### Tranformt Bronze -> Silver\n",
    "\n",
    "df_bronze = spark.read.load(bronze_path).drop(\"symbol\")\n",
    "df_bronze = df_bronze.withColumn( \"values\", explode(\"values\") )\n",
    "\n",
    "df_bronze = df_bronze.select(\n",
    "    col(\"meta\").getItem(\"symbol\").alias(\"Symbol\"),\n",
    "    col(\"meta\").getItem(\"exchange\").alias(\"ExchangeName\"),\n",
    "    col(\"meta\").getItem(\"currency\").alias(\"Currency\"),\n",
    "    col(\"meta\").getItem(\"type\").alias(\"Type\"),\n",
    "    col(\"meta\").getItem(\"exchange_timezone\").alias(\"ExchangeTimeZone\"),\n",
    "    col(\"values\").getItem(\"volume\").alias(\"Volume\"),\n",
    "    col(\"values\").getItem(\"high\").alias(\"High\"),\n",
    "    col(\"values\").getItem(\"low\").alias(\"Low\"),\n",
    "    col(\"values\").getItem(\"close\").alias(\"Close\"),\n",
    "    col(\"values\").getItem(\"open\").alias(\"Open\"),\n",
    "    col(\"values\").getItem(\"datetime\").alias(\"Date\"))\n",
    "\n",
    "df_bronze = df_bronze.dropDuplicates()\n",
    "\n",
    "\n",
    "\n",
    "df_bronze.show()\n"
   ]
  },
  {
   "cell_type": "code",
   "execution_count": null,
   "metadata": {},
   "outputs": [
    {
     "data": {
      "text/plain": [
       "1"
      ]
     },
     "execution_count": 19,
     "metadata": {},
     "output_type": "execute_result"
    }
   ],
   "source": [
    "parameters = {\n",
    "        \"businessColumns\" : \"Symbol,ExchangeName,Currency,Date\",\n",
    "        \"typeIColumns\" : \"Symbol\"\n",
    "        }\n",
    "\n",
    "scd2Handler =  SCDType2Handler(parameters)\n",
    "\n",
    "scd2Handler.refresh_timestamp()\n",
    "\n",
    "scd2Handler.businessColumnsList\n",
    "\n",
    "\n",
    "# df_bronze_audit = df_bronze.transform(scd2Handler.add_audit_columns)\n",
    "# df_bronze_audit.show()\n"
   ]
  },
  {
   "cell_type": "code",
   "execution_count": null,
   "metadata": {},
   "outputs": [],
   "source": [
    "spark.sql( \"\"\"\n",
    "          \n",
    "          describe history delta.`/Users/PC/Desktop/VS Code Repositories/azure-stock-market/Azure storage/Silver/delta-table`\n",
    "          \n",
    "          \"\"\").show(truncate=False)\n"
   ]
  },
  {
   "cell_type": "code",
   "execution_count": null,
   "metadata": {},
   "outputs": [],
   "source": []
  },
  {
   "cell_type": "code",
   "execution_count": null,
   "metadata": {},
   "outputs": [],
   "source": [
    "df_silver = spark.read.format(\"delta\").load(silver_path)\n",
    "\n",
    "df_silver.createOrReplaceTempView(\"silver\") \n",
    "\n",
    "spark.sql(\"select __hashkey, * from silver order by __hashkey , __ActivationDateTime desc \").show(truncate=False)"
   ]
  },
  {
   "cell_type": "code",
   "execution_count": null,
   "metadata": {},
   "outputs": [],
   "source": [
    "df = spark.read.format(\"delta\").load(\"/Users/PC/Desktop/VS Code Repositories/azure-stock-market/Azure storage/Silver/delta-table\")\n",
    "df.schema"
   ]
  },
  {
   "cell_type": "code",
   "execution_count": null,
   "metadata": {},
   "outputs": [],
   "source": [
    "\n",
    "# from pyspark.sql.types import StructType, StructField, DateType, StringType, DecimalType, IntegerType\n",
    "\n",
    "\n",
    "# schema = StructType([StructField('Symbol', StringType(), True), \n",
    "#             StructField('ExchangeName', StringType(), True), \n",
    "#             StructField('Currency', StringType(), True), \n",
    "#             StructField('Type', StringType(), True), \n",
    "#             StructField('ExchangeTimeZone', StringType(), True), \n",
    "#             StructField('Volume', StringType(), True), \n",
    "#             StructField('High', StringType(), True), \n",
    "#             StructField('Low', StringType(), True), \n",
    "#             StructField('Close', StringType(), True), \n",
    "#             StructField('Open', StringType(), True), \n",
    "#             StructField('Date', StringType(), True)])\n",
    "\n",
    "df_silver = spark.createDataFrame( df_bronze , schema = schema )\n",
    "\n",
    "df_silver.show()"
   ]
  },
  {
   "cell_type": "code",
   "execution_count": null,
   "metadata": {},
   "outputs": [],
   "source": [
    "df = spark.read.load(\"/Users/PC/Desktop/VS Code Repositories/azure-stock-market/Azure storage/Bronze\"); \n",
    "\n",
    "df_dim = df.select(\n",
    "    col(\"meta\").getItem(\"symbol\").alias(\"Symbol\"),\n",
    "    col(\"meta\").getItem(\"exchange\").alias(\"ExchangeName\"),\n",
    "    col(\"meta\").getItem(\"currency\").alias(\"Currency\"),\n",
    "    col(\"meta\").getItem(\"type\").alias(\"Type\"),\n",
    "    col(\"meta\").getItem(\"exchange_timezone\").alias(\"ExchangeTimezone\")\n",
    "    ) \n",
    "\n",
    "\n",
    "# df_dim = df_dim.withColumn(\"__HashKey\", sha2( col(\"Symbol\"), 256)) \n",
    "# df_dim = df_dim.withColumn(\"__HashKey\", sha2( concat_ws(\"|\",  *businessColumnsList), 256)) \n",
    "\n",
    " \n",
    "# profile data\n",
    "df_dim.limit(1).show(truncate = False) \n",
    "\n",
    "\n",
    "TypeIColumnsList\n",
    "\n",
    " "
   ]
  },
  {
   "cell_type": "code",
   "execution_count": null,
   "metadata": {},
   "outputs": [],
   "source": [
    "\n",
    "df_flat_exploded = df_flat2.select(\n",
    "                        col(\"symbol\"),\n",
    "                        explode( \"values\").alias(\"record\"))\n",
    "                        \n",
    "                        # .withColumn( \"volume\" , col(\"record\").getItem(\"volume\") ) \\\n",
    "                        # .withColumn( \"high\" , col(\"record\").getItem(\"high\") ) \\\n",
    "                        # .withColumn( \"low\" , col(\"record\").getItem(\"low\") ) \\\n",
    "                        # .withColumn( \"close\" , col(\"record\").getItem(\"close\") ) \\\n",
    "                        # .withColumn( \"open\" , col(\"record\").getItem(\"open\") ) \\\n",
    "                        # .withColumn( \"date\" , col(\"record\").getItem(\"datetime\") ) \\\n",
    "                        #         .drop(\"record\")\n",
    "\n",
    "\n",
    "df_flat_exploded =   df_flat_exploded.select(\n",
    "        \"symbol\",\n",
    "        col(\"record\").getItem(\"volume\").alias(\"volume\"),\n",
    "        col(\"record\").getItem(\"high\").alias(\"high\"),\n",
    "        col(\"record\").getItem(\"low\").alias(\"low\"),\n",
    "        col(\"record\").getItem(\"close\").alias(\"close\"),\n",
    "        col(\"record\").getItem(\"open\").alias(\"open\"),\n",
    "        col(\"record\").getItem(\"date\").alias(\"date\")\n",
    "        \n",
    "  )   \n",
    "df_flat_exploded = df_flat_exploded.filter(  col(\"symbol\")  == \"VOO\" ).distinct().count()     \n",
    "\n",
    "\n",
    "print(df_flat_exploded)\n",
    "# df_flat_exploded.show(truncate = False )"
   ]
  },
  {
   "cell_type": "code",
   "execution_count": null,
   "metadata": {},
   "outputs": [],
   "source": []
  }
 ],
 "metadata": {
  "kernelspec": {
   "display_name": ".venv",
   "language": "python",
   "name": "python3"
  },
  "language_info": {
   "codemirror_mode": {
    "name": "ipython",
    "version": 3
   },
   "file_extension": ".py",
   "mimetype": "text/x-python",
   "name": "python",
   "nbconvert_exporter": "python",
   "pygments_lexer": "ipython3",
   "version": "3.11.11"
  }
 },
 "nbformat": 4,
 "nbformat_minor": 2
}
