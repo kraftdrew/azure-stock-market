{
 "cells": [
  {
   "cell_type": "code",
   "execution_count": null,
   "metadata": {},
   "outputs": [
    {
     "name": "stderr",
     "output_type": "stream",
     "text": [
      "----------------------------------------\n",
      "Exception occurred during processing of request from ('127.0.0.1', 54293)\n",
      "Traceback (most recent call last):\n",
      "  File \"/Users/PC/.pyenv/versions/3.11.11/lib/python3.11/socketserver.py\", line 317, in _handle_request_noblock\n",
      "    self.process_request(request, client_address)\n",
      "  File \"/Users/PC/.pyenv/versions/3.11.11/lib/python3.11/socketserver.py\", line 348, in process_request\n",
      "    self.finish_request(request, client_address)\n",
      "  File \"/Users/PC/.pyenv/versions/3.11.11/lib/python3.11/socketserver.py\", line 361, in finish_request\n",
      "    self.RequestHandlerClass(request, client_address, self)\n",
      "  File \"/Users/PC/.pyenv/versions/3.11.11/lib/python3.11/socketserver.py\", line 755, in __init__\n",
      "    self.handle()\n",
      "  File \"/Users/PC/Desktop/VS Code Repositories/azure-stock-market/.venv/lib/python3.11/site-packages/pyspark/accumulators.py\", line 281, in handle\n",
      "    poll(accum_updates)\n",
      "  File \"/Users/PC/Desktop/VS Code Repositories/azure-stock-market/.venv/lib/python3.11/site-packages/pyspark/accumulators.py\", line 253, in poll\n",
      "    if func():\n",
      "       ^^^^^^\n",
      "  File \"/Users/PC/Desktop/VS Code Repositories/azure-stock-market/.venv/lib/python3.11/site-packages/pyspark/accumulators.py\", line 257, in accum_updates\n",
      "    num_updates = read_int(self.rfile)\n",
      "                  ^^^^^^^^^^^^^^^^^^^^\n",
      "  File \"/Users/PC/Desktop/VS Code Repositories/azure-stock-market/.venv/lib/python3.11/site-packages/pyspark/serializers.py\", line 596, in read_int\n",
      "    raise EOFError\n",
      "EOFError\n",
      "----------------------------------------\n"
     ]
    }
   ],
   "source": [
    "from dev_spark_session import DevSparkSession \n",
    "from get_stock_data import GetStockData\n",
    "\n",
    "stockdata = GetStockData() \n",
    "spark = DevSparkSession().spark\n"
   ]
  },
  {
   "cell_type": "code",
   "execution_count": null,
   "metadata": {},
   "outputs": [],
   "source": [
    "from pyspark.sql.functions import col,explode,sha2,concat_ws,trim, lit"
   ]
  },
  {
   "cell_type": "code",
   "execution_count": null,
   "metadata": {},
   "outputs": [],
   "source": [
    "json_data  = stockdata.get_historical_stock_data()\n"
   ]
  },
  {
   "cell_type": "code",
   "execution_count": null,
   "metadata": {},
   "outputs": [],
   "source": [
    "\n",
    "df = spark.createDataFrame(json_data) \n",
    "\n",
    "df = df.withColumn(\"symbol\", col(\"meta\").symbol).filter( col(\"status\") == \"ok\" ).drop(df.status)\n",
    "\n",
    "df.show(truncate = False)\n",
    "\n",
    "\n"
   ]
  },
  {
   "cell_type": "code",
   "execution_count": null,
   "metadata": {},
   "outputs": [],
   "source": [
    "\n",
    "df.write \\\n",
    "    .format(\"parquet\") \\\n",
    "    .mode(\"overwrite\") \\\n",
    "    .partitionBy( \"symbol\" ) \\\n",
    "    .save(\"/Users/PC/Desktop/VS Code Repositories/azure-stock-market/Azure storage/Bronze\")\n"
   ]
  },
  {
   "cell_type": "markdown",
   "metadata": {},
   "source": [
    "### Bronze -> Silver"
   ]
  },
  {
   "cell_type": "code",
   "execution_count": null,
   "metadata": {},
   "outputs": [
    {
     "name": "stdout",
     "output_type": "stream",
     "text": [
      "+------+------------+--------+----+----------------+--------+----------+---------+----------+---------+----------+-------------+-------------+--------------------+----------------------+--------------------+--------------------+--------------------+\n",
      "|Symbol|ExchangeName|Currency|Type|ExchangeTimeZone|  Volume|      high|      Low|     Close|     Open|      Date|__CurrentFlag|__DeletedFlag|__ActivationDateTime|__DeactivationDateTime|      __lastmodified|           __HashKey|         __HashValue|\n",
      "+------+------------+--------+----+----------------+--------+----------+---------+----------+---------+----------+-------------+-------------+--------------------+----------------------+--------------------+--------------------+--------------------+\n",
      "|   VOO|        NYSE|     USD| ETF|America/New_York| 4098000| 430.32001|405.47000| 408.78000|405.70999|2021-09-23|         true|        false|2025-04-14 20:24:...|                  null|2025-04-14 20:24:...|00243ef129261e3e5...|1b4e302ab509b4956...|\n",
      "|   QQQ|      NASDAQ|     USD| ETF|America/New_York|24605400| 401.98001|379.20001| 381.57001|379.22000|2021-09-03|         true|        false|2025-04-14 20:24:...|                  null|2025-04-14 20:24:...|00f0d51caa80b11f5...|3172526bb3b84e10f...|\n",
      "|   QQQ|      NASDAQ|     USD| ETF|America/New_York|48499400| 385.67999|359.95999| 363.95999|360.22000|2021-08-19|         true|        false|2025-04-14 20:24:...|                  null|2025-04-14 20:24:...|0133725d51279051a...|555d40a606f88f344...|\n",
      "|   QQQ|      NASDAQ|     USD| ETF|America/New_York|36056800| 393.76001|370.26999| 373.32999|370.64999|2021-09-24|         true|        false|2025-04-14 20:24:...|                  null|2025-04-14 20:24:...|02a2aa174f5d6fd4a...|99fbdf0a367784d9b...|\n",
      "|   QQQ|      NASDAQ|     USD| ETF|America/New_York|42955700|     339.0|314.10001| 318.82999|315.79001|2021-03-15|         true|        false|2025-04-14 20:24:...|                  null|2025-04-14 20:24:...|02a68785e46f2e4be...|1e3a04adb85b8a6e5...|\n",
      "|   QQQ|      NASDAQ|     USD| ETF|America/New_York|20346800|    356.62|332.63000| 336.45001|333.70999|2021-02-12|         true|        false|2025-04-14 20:24:...|                  null|2025-04-14 20:24:...|02c7d6f1730db0ed6...|7061b95ac346d04fe...|\n",
      "|   VOO|        NYSE|     USD| ETF|America/New_York| 8721300| 373.73001|342.59000| 352.69000|349.76999|2021-03-05|         true|        false|2025-04-14 20:24:...|                  null|2025-04-14 20:24:...|035054a8cb9e168c7...|107d8d60bf3323713...|\n",
      "|   VOO|        NYSE|     USD| ETF|America/New_York| 4992200|450.089996|425.32001| 429.98999|425.45001|2021-12-22|         true|        false|2025-04-14 20:24:...|                  null|2025-04-14 20:24:...|03fd79d269e4547b5...|0384d24b20d8215e6...|\n",
      "|   VOO|        NYSE|     USD| ETF|America/New_York| 4886200| 452.98999|430.38000|431.049988|431.87000|2021-11-19|         true|        false|2025-04-14 20:24:...|                  null|2025-04-14 20:24:...|043f499bd83eb3f85...|b881d2e2b9e7d506d...|\n",
      "|   VOO|        NYSE|     USD| ETF|America/New_York| 4596700| 459.95001|437.54001|439.010010|    438.5|2021-12-29|         true|        false|2025-04-14 20:24:...|                  null|2025-04-14 20:24:...|04beb24736c417dee...|f12b664621e43ff0e...|\n",
      "|   QQQ|      NASDAQ|     USD| ETF|America/New_York|48741800| 399.42999|374.22000| 376.32999|378.98999|2021-09-13|         true|        false|2025-04-14 20:24:...|                  null|2025-04-14 20:24:...|066a0ed0ed9da0990...|3051391a831404780...|\n",
      "|   VOO|        NYSE|     USD| ETF|America/New_York| 5663500| 376.39999|350.66000| 350.95999|353.63000|2021-03-08|         true|        false|2025-04-14 20:24:...|                  null|2025-04-14 20:24:...|06962cbedf23e851c...|12834539299e43311...|\n",
      "|   QQQ|      NASDAQ|     USD| ETF|America/New_York|38541900|    386.62|361.87000| 362.20999|365.17999|2021-08-18|         true|        false|2025-04-14 20:24:...|                  null|2025-04-14 20:24:...|0698997fbcfcb84f0...|37d0980c4cdad6a0b...|\n",
      "|   QQQ|      NASDAQ|     USD| ETF|America/New_York|47256900| 347.79999|322.23001| 322.44000|    326.5|2021-02-22|         true|        false|2025-04-14 20:24:...|                  null|2025-04-14 20:24:...|06f3be9b3089fed02...|39c2a10f67982311a...|\n",
      "|   QQQ|      NASDAQ|     USD| ETF|America/New_York|69315600| 338.23001|311.39001| 315.45999|313.85999|2021-03-12|         true|        false|2025-04-14 20:24:...|                  null|2025-04-14 20:24:...|077d9b7426b3493e2...|979c96c940cfd2363...|\n",
      "|   VOO|        NYSE|     USD| ETF|America/New_York| 5396100|    430.78|406.76999|407.079987|410.35001|2021-09-17|         true|        false|2025-04-14 20:24:...|                  null|2025-04-14 20:24:...|07944970cb5fd341c...|2fb1c68d9338978ad...|\n",
      "|   VOO|        NYSE|     USD| ETF|America/New_York| 7231400|    379.84|356.88000|358.070007|358.29999|2021-03-10|         true|        false|2025-04-14 20:24:...|                  null|2025-04-14 20:24:...|07b1145e192ceab76...|e88f275f06b22ffd2...|\n",
      "|   QQQ|      NASDAQ|     USD| ETF|America/New_York|20462800| 353.73999|331.41000| 333.57999|333.10001|2021-02-08|         true|        false|2025-04-14 20:24:...|                  null|2025-04-14 20:24:...|08d01e9378ad90261...|6e84b59ab3a52f3df...|\n",
      "|   VOO|        NYSE|     USD| ETF|America/New_York| 3691100| 400.51001|377.70001| 378.23001|379.45999|2021-04-14|         true|        false|2025-04-14 20:24:...|                  null|2025-04-14 20:24:...|090260a5df3524949...|a132b2de61d6f0d29...|\n",
      "|   VOO|        NYSE|     USD| ETF|America/New_York| 2319300| 429.32999|406.97000| 409.14999|407.82001|2021-08-12|         true|        false|2025-04-14 20:24:...|                  null|2025-04-14 20:24:...|090340bbb3e1611ff...|a9cda7904e1c2e1ac...|\n",
      "+------+------------+--------+----+----------------+--------+----------+---------+----------+---------+----------+-------------+-------------+--------------------+----------------------+--------------------+--------------------+--------------------+\n",
      "only showing top 20 rows\n",
      "\n"
     ]
    }
   ],
   "source": [
    "from delta.tables import DeltaTable\n",
    "from pyspark.sql.types import StructType, StructField, DateType, StringType, DecimalType, IntegerType\n",
    "\n",
    "from pyspark.sql.functions import current_timestamp, sha2, concat_ws\n",
    "\n",
    "# Paths for Bronze and Silver data\n",
    "bronze_path = \"/Users/PC/Desktop/VS Code Repositories/azure-stock-market/Azure storage/Bronze\"  # Bronze data stored in Parquet or Delta\n",
    "silver_path = \"/Users/PC/Desktop/VS Code Repositories/azure-stock-market/Azure storage/Silver/delta-table\"  # Target location for Silver Delta table\n",
    "from pyspark.sql.functions import max, col,cast,unhex, hex\n",
    "\n",
    "\n",
    "\n",
    "### Tranformt Bronze -> Silver\n",
    "# 2. Load Bronze Data\n",
    "\n",
    "df_bronze = spark.read.load(bronze_path).drop(\"symbol\")\n",
    "df_bronze = df_bronze.withColumn( \"values\", explode(\"values\") )\n",
    "\n",
    "df_bronze = df_bronze.select(\n",
    "    col(\"meta\").getItem(\"symbol\").alias(\"Symbol\"),\n",
    "    col(\"meta\").getItem(\"exchange\").alias(\"ExchangeName\"),\n",
    "    col(\"meta\").getItem(\"currency\").alias(\"Currency\"),\n",
    "    col(\"meta\").getItem(\"type\").alias(\"Type\"),\n",
    "    col(\"meta\").getItem(\"exchange_timezone\").alias(\"ExchangeTimeZone\"),\n",
    "    col(\"values\").getItem(\"volume\").alias(\"Volume\"),\n",
    "    col(\"values\").getItem(\"high\").alias(\"High\"),\n",
    "    col(\"values\").getItem(\"low\").alias(\"Low\"),\n",
    "    col(\"values\").getItem(\"close\").alias(\"Close\"),\n",
    "    col(\"values\").getItem(\"open\").alias(\"Open\"),\n",
    "    col(\"values\").getItem(\"datetime\").alias(\"Date\"))\n",
    "\n",
    "df_bronze = df_bronze.dropDuplicates()\n",
    "\n",
    "# df_bronze = df_bronze.withColumn(\"high\", col(\"high\")+20)\n",
    "\n",
    "\n",
    "\n",
    "\n",
    "    \n"
   ]
  },
  {
   "cell_type": "code",
   "execution_count": 117,
   "metadata": {},
   "outputs": [
    {
     "name": "stdout",
     "output_type": "stream",
     "text": [
      "+-------+-----------------------+------+--------+------------+-----------------------------------------------------------------------------------------------------------------------------------------------------------------------------------------------------------------------------------------------------------+----+--------+---------+-----------+-----------------+-------------+-----------------------------------------------------------------------------------------------------------------------------------------------------------------------------------------------------------------------------------------------------------------------------------------------------------------------------------------------------------------------------------------------------------------------------------------------------------------------------------------------------------------------------------------------+------------+-----------------------------------+\n",
      "|version|timestamp              |userId|userName|operation   |operationParameters                                                                                                                                                                                                                                        |job |notebook|clusterId|readVersion|isolationLevel   |isBlindAppend|operationMetrics                                                                                                                                                                                                                                                                                                                                                                                                                                                                                                                               |userMetadata|engineInfo                         |\n",
      "+-------+-----------------------+------+--------+------------+-----------------------------------------------------------------------------------------------------------------------------------------------------------------------------------------------------------------------------------------------------------+----+--------+---------+-----------+-----------------+-------------+-----------------------------------------------------------------------------------------------------------------------------------------------------------------------------------------------------------------------------------------------------------------------------------------------------------------------------------------------------------------------------------------------------------------------------------------------------------------------------------------------------------------------------------------------+------------+-----------------------------------+\n",
      "|14     |2025-04-14 20:24:17.861|null  |null    |MERGE       |{predicate -> [\"((__HashKey#39219 = __HashKey#39093) AND (__CurrentFlag#39214 = true))\"], matchedPredicates -> [], notMatchedPredicates -> [{\"actionType\":\"insert\"}], notMatchedBySourcePredicates -> []}                                                  |null|null    |null     |13         |Serializable     |false        |{numTargetRowsCopied -> 0, numTargetRowsDeleted -> 0, numTargetFilesAdded -> 1, numTargetBytesAdded -> 90177, numTargetBytesRemoved -> 0, numTargetRowsMatchedUpdated -> 0, executionTimeMs -> 380, numTargetRowsInserted -> 502, numTargetRowsMatchedDeleted -> 0, scanTimeMs -> 0, numTargetRowsUpdated -> 0, numOutputRows -> 502, numTargetRowsNotMatchedBySourceUpdated -> 0, numTargetChangeFilesAdded -> 0, numSourceRows -> 502, numTargetFilesRemoved -> 0, numTargetRowsNotMatchedBySourceDeleted -> 0, rewriteTimeMs -> 377}        |null        |Apache-Spark/3.4.4 Delta-Lake/2.4.0|\n",
      "|13     |2025-04-14 20:24:16.885|null  |null    |MERGE       |{predicate -> [\"(((__HashKey#39219 = __HashKey#39093) AND NOT (__HashValue#39220 = __HashValue#39111)) AND (__CurrentFlag#39214 = true))\"], matchedPredicates -> [{\"actionType\":\"update\"}], notMatchedPredicates -> [], notMatchedBySourcePredicates -> []}|null|null    |null     |12         |Serializable     |false        |{numTargetRowsCopied -> 0, numTargetRowsDeleted -> 0, numTargetFilesAdded -> 1, numTargetBytesAdded -> 91244, numTargetBytesRemoved -> 91142, numTargetRowsMatchedUpdated -> 502, executionTimeMs -> 586, numTargetRowsInserted -> 0, numTargetRowsMatchedDeleted -> 0, scanTimeMs -> 307, numTargetRowsUpdated -> 502, numOutputRows -> 502, numTargetRowsNotMatchedBySourceUpdated -> 0, numTargetChangeFilesAdded -> 0, numSourceRows -> 502, numTargetFilesRemoved -> 1, numTargetRowsNotMatchedBySourceDeleted -> 0, rewriteTimeMs -> 209}|null        |Apache-Spark/3.4.4 Delta-Lake/2.4.0|\n",
      "|12     |2025-04-14 20:23:10.359|null  |null    |MERGE       |{predicate -> [\"((__HashKey#36142 = __HashKey#36016) AND (__CurrentFlag#36137 = true))\"], matchedPredicates -> [], notMatchedPredicates -> [{\"actionType\":\"insert\"}], notMatchedBySourcePredicates -> []}                                                  |null|null    |null     |11         |Serializable     |false        |{numTargetRowsCopied -> 0, numTargetRowsDeleted -> 0, numTargetFilesAdded -> 1, numTargetBytesAdded -> 91142, numTargetBytesRemoved -> 0, numTargetRowsMatchedUpdated -> 0, executionTimeMs -> 356, numTargetRowsInserted -> 502, numTargetRowsMatchedDeleted -> 0, scanTimeMs -> 0, numTargetRowsUpdated -> 0, numOutputRows -> 502, numTargetRowsNotMatchedBySourceUpdated -> 0, numTargetChangeFilesAdded -> 0, numSourceRows -> 502, numTargetFilesRemoved -> 0, numTargetRowsNotMatchedBySourceDeleted -> 0, rewriteTimeMs -> 353}        |null        |Apache-Spark/3.4.4 Delta-Lake/2.4.0|\n",
      "|11     |2025-04-14 20:23:09.174|null  |null    |MERGE       |{predicate -> [\"(((__HashKey#36142 = __HashKey#36016) AND NOT (__HashValue#36143 = __HashValue#36034)) AND (__CurrentFlag#36137 = true))\"], matchedPredicates -> [{\"actionType\":\"update\"}], notMatchedPredicates -> [], notMatchedBySourcePredicates -> []}|null|null    |null     |10         |Serializable     |false        |{numTargetRowsCopied -> 0, numTargetRowsDeleted -> 0, numTargetFilesAdded -> 1, numTargetBytesAdded -> 89666, numTargetBytesRemoved -> 89564, numTargetRowsMatchedUpdated -> 502, executionTimeMs -> 561, numTargetRowsInserted -> 0, numTargetRowsMatchedDeleted -> 0, scanTimeMs -> 306, numTargetRowsUpdated -> 502, numOutputRows -> 502, numTargetRowsNotMatchedBySourceUpdated -> 0, numTargetChangeFilesAdded -> 0, numSourceRows -> 502, numTargetFilesRemoved -> 1, numTargetRowsNotMatchedBySourceDeleted -> 0, rewriteTimeMs -> 169}|null        |Apache-Spark/3.4.4 Delta-Lake/2.4.0|\n",
      "|10     |2025-04-14 20:20:17.509|null  |null    |MERGE       |{predicate -> [\"((__HashKey#30781 = __HashKey#30632) AND (__CurrentFlag#30776 = true))\"], matchedPredicates -> [], notMatchedPredicates -> [{\"actionType\":\"insert\"}], notMatchedBySourcePredicates -> []}                                                  |null|null    |null     |9          |Serializable     |false        |{numTargetRowsCopied -> 0, numTargetRowsDeleted -> 0, numTargetFilesAdded -> 1, numTargetBytesAdded -> 89564, numTargetBytesRemoved -> 0, numTargetRowsMatchedUpdated -> 0, executionTimeMs -> 321, numTargetRowsInserted -> 502, numTargetRowsMatchedDeleted -> 0, scanTimeMs -> 0, numTargetRowsUpdated -> 0, numOutputRows -> 502, numTargetRowsNotMatchedBySourceUpdated -> 0, numTargetChangeFilesAdded -> 0, numSourceRows -> 502, numTargetFilesRemoved -> 0, numTargetRowsNotMatchedBySourceDeleted -> 0, rewriteTimeMs -> 319}        |null        |Apache-Spark/3.4.4 Delta-Lake/2.4.0|\n",
      "|9      |2025-04-14 20:19:20.264|null  |null    |WRITE       |{mode -> Overwrite, partitionBy -> []}                                                                                                                                                                                                                     |null|null    |null     |8          |Serializable     |false        |{numFiles -> 1, numOutputRows -> 0, numOutputBytes -> 1890}                                                                                                                                                                                                                                                                                                                                                                                                                                                                                    |null        |Apache-Spark/3.4.4 Delta-Lake/2.4.0|\n",
      "|8      |2025-04-14 20:17:29.554|null  |null    |MERGE       |{predicate -> [\"((__HashKey#27669 = __HashKey#27543) AND (__CurrentFlag#27664 = true))\"], matchedPredicates -> [], notMatchedPredicates -> [{\"actionType\":\"insert\"}], notMatchedBySourcePredicates -> []}                                                  |null|null    |null     |7          |Serializable     |false        |{numTargetRowsCopied -> 0, numTargetRowsDeleted -> 0, numTargetFilesAdded -> 1, numTargetBytesAdded -> 91697, numTargetBytesRemoved -> 0, numTargetRowsMatchedUpdated -> 0, executionTimeMs -> 438, numTargetRowsInserted -> 502, numTargetRowsMatchedDeleted -> 0, scanTimeMs -> 0, numTargetRowsUpdated -> 0, numOutputRows -> 502, numTargetRowsNotMatchedBySourceUpdated -> 0, numTargetChangeFilesAdded -> 0, numSourceRows -> 502, numTargetFilesRemoved -> 0, numTargetRowsNotMatchedBySourceDeleted -> 0, rewriteTimeMs -> 436}        |null        |Apache-Spark/3.4.4 Delta-Lake/2.4.0|\n",
      "|7      |2025-04-14 20:17:28.559|null  |null    |MERGE       |{predicate -> [\"(((__HashKey#27669 = __HashKey#27543) AND NOT (__HashValue#27670 = __HashValue#27561)) AND (__CurrentFlag#27664 = true))\"], matchedPredicates -> [{\"actionType\":\"update\"}], notMatchedPredicates -> [], notMatchedBySourcePredicates -> []}|null|null    |null     |6          |Serializable     |false        |{numTargetRowsCopied -> 0, numTargetRowsDeleted -> 0, numTargetFilesAdded -> 1, numTargetBytesAdded -> 91592, numTargetBytesRemoved -> 91490, numTargetRowsMatchedUpdated -> 502, executionTimeMs -> 723, numTargetRowsInserted -> 0, numTargetRowsMatchedDeleted -> 0, scanTimeMs -> 324, numTargetRowsUpdated -> 502, numOutputRows -> 502, numTargetRowsNotMatchedBySourceUpdated -> 0, numTargetChangeFilesAdded -> 0, numSourceRows -> 502, numTargetFilesRemoved -> 1, numTargetRowsNotMatchedBySourceDeleted -> 0, rewriteTimeMs -> 240}|null        |Apache-Spark/3.4.4 Delta-Lake/2.4.0|\n",
      "|6      |2025-04-14 20:17:11.749|null  |null    |MERGE       |{predicate -> [\"((__HashKey#25350 = __HashKey#18457) AND (__CurrentFlag#25345 = true))\"], matchedPredicates -> [], notMatchedPredicates -> [{\"actionType\":\"insert\"}], notMatchedBySourcePredicates -> []}                                                  |null|null    |null     |5          |Serializable     |false        |{numTargetRowsCopied -> 0, numTargetRowsDeleted -> 0, numTargetFilesAdded -> 1, numTargetBytesAdded -> 91490, numTargetBytesRemoved -> 0, numTargetRowsMatchedUpdated -> 0, executionTimeMs -> 402, numTargetRowsInserted -> 502, numTargetRowsMatchedDeleted -> 0, scanTimeMs -> 0, numTargetRowsUpdated -> 0, numOutputRows -> 502, numTargetRowsNotMatchedBySourceUpdated -> 0, numTargetChangeFilesAdded -> 0, numSourceRows -> 502, numTargetFilesRemoved -> 0, numTargetRowsNotMatchedBySourceDeleted -> 0, rewriteTimeMs -> 398}        |null        |Apache-Spark/3.4.4 Delta-Lake/2.4.0|\n",
      "|5      |2025-04-14 19:23:56.423|null  |null    |MERGE       |{predicate -> [\"(__HashKey#16006 = __HashKey#15880)\"], matchedPredicates -> [{\"predicate\":\"NOT (__HashValue#16007 = __HashValue#15898)\",\"actionType\":\"update\"}], notMatchedPredicates -> [{\"actionType\":\"insert\"}], notMatchedBySourcePredicates -> []}    |null|null    |null     |4          |Serializable     |false        |{numTargetRowsCopied -> 0, numTargetRowsDeleted -> 0, numTargetFilesAdded -> 1, numTargetBytesAdded -> 89363, numTargetBytesRemoved -> 91472, numTargetRowsMatchedUpdated -> 502, executionTimeMs -> 744, numTargetRowsInserted -> 0, numTargetRowsMatchedDeleted -> 0, scanTimeMs -> 316, numTargetRowsUpdated -> 502, numOutputRows -> 502, numTargetRowsNotMatchedBySourceUpdated -> 0, numTargetChangeFilesAdded -> 0, numSourceRows -> 502, numTargetFilesRemoved -> 1, numTargetRowsNotMatchedBySourceDeleted -> 0, rewriteTimeMs -> 342}|null        |Apache-Spark/3.4.4 Delta-Lake/2.4.0|\n",
      "|4      |2025-04-14 19:23:43.758|null  |null    |MERGE       |{predicate -> [\"(__HashKey#14123 = __HashKey#13997)\"], matchedPredicates -> [{\"predicate\":\"NOT (__HashValue#14124 = __HashValue#14015)\",\"actionType\":\"update\"}], notMatchedPredicates -> [{\"actionType\":\"insert\"}], notMatchedBySourcePredicates -> []}    |null|null    |null     |3          |Serializable     |false        |{numTargetRowsCopied -> 0, numTargetRowsDeleted -> 0, numTargetFilesAdded -> 1, numTargetBytesAdded -> 91472, numTargetBytesRemoved -> 0, numTargetRowsMatchedUpdated -> 0, executionTimeMs -> 631, numTargetRowsInserted -> 502, numTargetRowsMatchedDeleted -> 0, scanTimeMs -> 295, numTargetRowsUpdated -> 0, numOutputRows -> 502, numTargetRowsNotMatchedBySourceUpdated -> 0, numTargetChangeFilesAdded -> 0, numSourceRows -> 502, numTargetFilesRemoved -> 0, numTargetRowsNotMatchedBySourceDeleted -> 0, rewriteTimeMs -> 230}      |null        |Apache-Spark/3.4.4 Delta-Lake/2.4.0|\n",
      "|3      |2025-04-14 19:20:31.482|null  |null    |WRITE       |{mode -> Overwrite, partitionBy -> []}                                                                                                                                                                                                                     |null|null    |null     |2          |SnapshotIsolation|false        |{numFiles -> 1, numOutputRows -> 0, numOutputBytes -> 1890}                                                                                                                                                                                                                                                                                                                                                                                                                                                                                    |null        |Apache-Spark/3.4.4 Delta-Lake/2.4.0|\n",
      "|2      |2025-04-14 19:20:09.84 |null  |null    |WRITE       |{mode -> Overwrite, partitionBy -> []}                                                                                                                                                                                                                     |null|null    |null     |1          |Serializable     |false        |{numFiles -> 1, numOutputRows -> 0, numOutputBytes -> 1890}                                                                                                                                                                                                                                                                                                                                                                                                                                                                                    |null        |Apache-Spark/3.4.4 Delta-Lake/2.4.0|\n",
      "|1      |2025-04-14 19:11:51.085|null  |null    |MERGE       |{predicate -> [\"(__HashKey#6901 = __HashKey#6775)\"], matchedPredicates -> [{\"predicate\":\"NOT (__HashValue#6902 = __HashValue#6793)\",\"actionType\":\"update\"}], notMatchedPredicates -> [{\"actionType\":\"insert\"}], notMatchedBySourcePredicates -> []}        |null|null    |null     |0          |Serializable     |false        |{numTargetRowsCopied -> 0, numTargetRowsDeleted -> 0, numTargetFilesAdded -> 1, numTargetBytesAdded -> 56697, numTargetBytesRemoved -> 0, numTargetRowsMatchedUpdated -> 0, executionTimeMs -> 496, numTargetRowsInserted -> 502, numTargetRowsMatchedDeleted -> 0, scanTimeMs -> 202, numTargetRowsUpdated -> 0, numOutputRows -> 502, numTargetRowsNotMatchedBySourceUpdated -> 0, numTargetChangeFilesAdded -> 0, numSourceRows -> 502, numTargetFilesRemoved -> 0, numTargetRowsNotMatchedBySourceDeleted -> 0, rewriteTimeMs -> 261}      |null        |Apache-Spark/3.4.4 Delta-Lake/2.4.0|\n",
      "|0      |2025-04-14 19:11:11.569|null  |null    |CREATE TABLE|{isManaged -> false, description -> null, partitionBy -> [], properties -> {}}                                                                                                                                                                             |null|null    |null     |null       |Serializable     |true         |{}                                                                                                                                                                                                                                                                                                                                                                                                                                                                                                                                             |null        |Apache-Spark/3.4.4 Delta-Lake/2.4.0|\n",
      "+-------+-----------------------+------+--------+------------+-----------------------------------------------------------------------------------------------------------------------------------------------------------------------------------------------------------------------------------------------------------+----+--------+---------+-----------+-----------------+-------------+-----------------------------------------------------------------------------------------------------------------------------------------------------------------------------------------------------------------------------------------------------------------------------------------------------------------------------------------------------------------------------------------------------------------------------------------------------------------------------------------------------------------------------------------------+------------+-----------------------------------+\n",
      "\n"
     ]
    }
   ],
   "source": [
    "spark.sql( \"\"\"\n",
    "          \n",
    "          describe history delta.`/Users/PC/Desktop/VS Code Repositories/azure-stock-market/Azure storage/Silver/delta-table`\n",
    "          \n",
    "          \"\"\").show(truncate=False)\n"
   ]
  },
  {
   "cell_type": "code",
   "execution_count": null,
   "metadata": {},
   "outputs": [
    {
     "name": "stderr",
     "output_type": "stream",
     "text": [
      "25/04/14 20:24:17 WARN MergeIntoCommand: Merge source has SQLMetric(id: 22820, name: Some(number of source rows), value: 502) rows in initial scan but SQLMetric(id: 22821, name: Some(number of source rows (during repeated scan)), value: 0) rows in second scan\n"
     ]
    },
    {
     "name": "stdout",
     "output_type": "stream",
     "text": [
      "Merge operation complete.\n"
     ]
    }
   ],
   "source": []
  },
  {
   "cell_type": "code",
   "execution_count": 114,
   "metadata": {},
   "outputs": [
    {
     "name": "stdout",
     "output_type": "stream",
     "text": [
      "+----------------------------------------------------------------+------+------------+--------+----+----------------+--------+---------+---------+---------+---------+----------+-------------+-------------+--------------------------+----------------------+--------------------------+----------------------------------------------------------------+----------------------------------------------------------------+\n",
      "|__hashkey                                                       |Symbol|ExchangeName|Currency|Type|ExchangeTimeZone|Volume  |High     |Low      |Close    |Open     |Date      |__CurrentFlag|__DeletedFlag|__ActivationDateTime      |__DeactivationDateTime|__lastmodified            |__HashKey                                                       |__HashValue                                                     |\n",
      "+----------------------------------------------------------------+------+------------+--------+----+----------------+--------+---------+---------+---------+---------+----------+-------------+-------------+--------------------------+----------------------+--------------------------+----------------------------------------------------------------+----------------------------------------------------------------+\n",
      "|00243ef129261e3e5d99a9aee305a3e3f9aa1efb0c62f6cf9bd9067d0b2a7aeb|VOO   |NYSE        |USD     |ETF |America/New_York|4098000 |430.32001|405.47000|408.78000|405.70999|2021-09-23|true         |false        |2025-04-14 20:24:13.092926|null                  |2025-04-14 20:24:17.471645|00243ef129261e3e5d99a9aee305a3e3f9aa1efb0c62f6cf9bd9067d0b2a7aeb|1b4e302ab509b4956d5e1727cffd04008c22d9e123f8f2dc29ed8fdff53296b1|\n",
      "|00243ef129261e3e5d99a9aee305a3e3f9aa1efb0c62f6cf9bd9067d0b2a7aeb|VOO   |NYSE        |USD     |ETF |America/New_York|4098000 |410.32001|405.47000|408.78000|405.70999|2021-09-23|false        |false        |2025-04-14 20:21:37.322054|2025-04-14 20:24:12   |2025-04-14 20:24:16.289109|00243ef129261e3e5d99a9aee305a3e3f9aa1efb0c62f6cf9bd9067d0b2a7aeb|c03d0f192cf90439b2be99edfff54e887f59e5ee284ee3a7a81bd815e3a6b2fc|\n",
      "|00243ef129261e3e5d99a9aee305a3e3f9aa1efb0c62f6cf9bd9067d0b2a7aeb|VOO   |NYSE        |USD     |ETF |America/New_York|4098000 |420.32001|405.47000|408.78000|405.70999|2021-09-23|false        |false        |2025-04-14 20:19:50.795822|2025-04-14 20:21:36   |2025-04-14 20:23:08.603258|00243ef129261e3e5d99a9aee305a3e3f9aa1efb0c62f6cf9bd9067d0b2a7aeb|43621c53566fd58483ae52e90b6bc676b8eb06a0bc6d9f1fb3ae9ce46d341681|\n",
      "|00f0d51caa80b11f5385b3d9be93eb8f75bf20628c7f5db6ad61084a10735100|QQQ   |NASDAQ      |USD     |ETF |America/New_York|24605400|401.98001|379.20001|381.57001|379.22000|2021-09-03|true         |false        |2025-04-14 20:24:13.092926|null                  |2025-04-14 20:24:17.471645|00f0d51caa80b11f5385b3d9be93eb8f75bf20628c7f5db6ad61084a10735100|3172526bb3b84e10f4eeff8520e2fa89f9c3b6dc49cff49a47db9455cc16d577|\n",
      "|00f0d51caa80b11f5385b3d9be93eb8f75bf20628c7f5db6ad61084a10735100|QQQ   |NASDAQ      |USD     |ETF |America/New_York|24605400|381.98001|379.20001|381.57001|379.22000|2021-09-03|false        |false        |2025-04-14 20:21:37.322054|2025-04-14 20:24:12   |2025-04-14 20:24:16.289109|00f0d51caa80b11f5385b3d9be93eb8f75bf20628c7f5db6ad61084a10735100|8e434ad9881f738b124d2a6b2459f1a16aeec5e92c39022e24280f653e8b9fef|\n",
      "|00f0d51caa80b11f5385b3d9be93eb8f75bf20628c7f5db6ad61084a10735100|QQQ   |NASDAQ      |USD     |ETF |America/New_York|24605400|391.98001|379.20001|381.57001|379.22000|2021-09-03|false        |false        |2025-04-14 20:19:50.795822|2025-04-14 20:21:36   |2025-04-14 20:23:08.603258|00f0d51caa80b11f5385b3d9be93eb8f75bf20628c7f5db6ad61084a10735100|d92993fa183dc8dae14cf1eec44c576cae967e32fad3e70765bc0361bac36308|\n",
      "|0133725d51279051a1c44006474ab392010308cac06f518a6ede4b4a9302ff24|QQQ   |NASDAQ      |USD     |ETF |America/New_York|48499400|385.67999|359.95999|363.95999|360.22000|2021-08-19|true         |false        |2025-04-14 20:24:13.092926|null                  |2025-04-14 20:24:17.471645|0133725d51279051a1c44006474ab392010308cac06f518a6ede4b4a9302ff24|555d40a606f88f34406a6065cc31472674540ad5345307c38a087f13d33d667c|\n",
      "|0133725d51279051a1c44006474ab392010308cac06f518a6ede4b4a9302ff24|QQQ   |NASDAQ      |USD     |ETF |America/New_York|48499400|365.67999|359.95999|363.95999|360.22000|2021-08-19|false        |false        |2025-04-14 20:21:37.322054|2025-04-14 20:24:12   |2025-04-14 20:24:16.289109|0133725d51279051a1c44006474ab392010308cac06f518a6ede4b4a9302ff24|4fa325cdc9468fe752aa75f84356d85f2c3e874c2446ee41bfacba7eeab837b0|\n",
      "|0133725d51279051a1c44006474ab392010308cac06f518a6ede4b4a9302ff24|QQQ   |NASDAQ      |USD     |ETF |America/New_York|48499400|375.67999|359.95999|363.95999|360.22000|2021-08-19|false        |false        |2025-04-14 20:19:50.795822|2025-04-14 20:21:36   |2025-04-14 20:23:08.603258|0133725d51279051a1c44006474ab392010308cac06f518a6ede4b4a9302ff24|89fc08efae9e4ca17fccf30de5e6d26f60c080001373370d30d10f67c9b31bf0|\n",
      "|02a2aa174f5d6fd4ac0d0edd12a8b1d50e7aa8b9e65e83a5a658bb8317ae1747|QQQ   |NASDAQ      |USD     |ETF |America/New_York|36056800|393.76001|370.26999|373.32999|370.64999|2021-09-24|true         |false        |2025-04-14 20:24:13.092926|null                  |2025-04-14 20:24:17.471645|02a2aa174f5d6fd4ac0d0edd12a8b1d50e7aa8b9e65e83a5a658bb8317ae1747|99fbdf0a367784d9b459bccf9ff6fbd47f668bd7033ada55143de53df0dfa241|\n",
      "|02a2aa174f5d6fd4ac0d0edd12a8b1d50e7aa8b9e65e83a5a658bb8317ae1747|QQQ   |NASDAQ      |USD     |ETF |America/New_York|36056800|373.76001|370.26999|373.32999|370.64999|2021-09-24|false        |false        |2025-04-14 20:21:37.322054|2025-04-14 20:24:12   |2025-04-14 20:24:16.289109|02a2aa174f5d6fd4ac0d0edd12a8b1d50e7aa8b9e65e83a5a658bb8317ae1747|a03a42d7c464b8c73b3a663ca4aa69277c3745a3ce3584928422db535e5eb870|\n",
      "|02a2aa174f5d6fd4ac0d0edd12a8b1d50e7aa8b9e65e83a5a658bb8317ae1747|QQQ   |NASDAQ      |USD     |ETF |America/New_York|36056800|383.76001|370.26999|373.32999|370.64999|2021-09-24|false        |false        |2025-04-14 20:19:50.795822|2025-04-14 20:21:36   |2025-04-14 20:23:08.603258|02a2aa174f5d6fd4ac0d0edd12a8b1d50e7aa8b9e65e83a5a658bb8317ae1747|88685783ff8c023a50e8cd3632763399b2c9b2046ff5a477f21632154bc46ee6|\n",
      "|02a68785e46f2e4be05195a07155ec87db449c2391c6e7843f404ea53c25f58e|QQQ   |NASDAQ      |USD     |ETF |America/New_York|42955700|339.0    |314.10001|318.82999|315.79001|2021-03-15|true         |false        |2025-04-14 20:24:13.092926|null                  |2025-04-14 20:24:17.471645|02a68785e46f2e4be05195a07155ec87db449c2391c6e7843f404ea53c25f58e|1e3a04adb85b8a6e59be9fc3509fe2752f855c82ea7b7afbde9d9d4c42aee035|\n",
      "|02a68785e46f2e4be05195a07155ec87db449c2391c6e7843f404ea53c25f58e|QQQ   |NASDAQ      |USD     |ETF |America/New_York|42955700|319      |314.10001|318.82999|315.79001|2021-03-15|false        |false        |2025-04-14 20:21:37.322054|2025-04-14 20:24:12   |2025-04-14 20:24:16.289109|02a68785e46f2e4be05195a07155ec87db449c2391c6e7843f404ea53c25f58e|41ecb9b33de3150151ef2147a3c71064e90e1f057ddde024448cf3c3914414fb|\n",
      "|02a68785e46f2e4be05195a07155ec87db449c2391c6e7843f404ea53c25f58e|QQQ   |NASDAQ      |USD     |ETF |America/New_York|42955700|329.0    |314.10001|318.82999|315.79001|2021-03-15|false        |false        |2025-04-14 20:19:50.795822|2025-04-14 20:21:36   |2025-04-14 20:23:08.603258|02a68785e46f2e4be05195a07155ec87db449c2391c6e7843f404ea53c25f58e|ef9a3298b690861b15081ec4e66da472f0f1d3fc38850307e1c5e43ccc021ed4|\n",
      "|02c7d6f1730db0ed63aeb2436e07bb37d1216b0eec17bf4625e27a5f4e261f18|QQQ   |NASDAQ      |USD     |ETF |America/New_York|20346800|356.62   |332.63000|336.45001|333.70999|2021-02-12|true         |false        |2025-04-14 20:24:13.092926|null                  |2025-04-14 20:24:17.471645|02c7d6f1730db0ed63aeb2436e07bb37d1216b0eec17bf4625e27a5f4e261f18|7061b95ac346d04febfb17ff6bd6166333cf8e5ec44b782cd355e458a8851172|\n",
      "|02c7d6f1730db0ed63aeb2436e07bb37d1216b0eec17bf4625e27a5f4e261f18|QQQ   |NASDAQ      |USD     |ETF |America/New_York|20346800|336.62000|332.63000|336.45001|333.70999|2021-02-12|false        |false        |2025-04-14 20:21:37.322054|2025-04-14 20:24:12   |2025-04-14 20:24:16.289109|02c7d6f1730db0ed63aeb2436e07bb37d1216b0eec17bf4625e27a5f4e261f18|e3596367ab3e981991935ec7145161dacfc81403023ef4c22df682037997cbf2|\n",
      "|02c7d6f1730db0ed63aeb2436e07bb37d1216b0eec17bf4625e27a5f4e261f18|QQQ   |NASDAQ      |USD     |ETF |America/New_York|20346800|346.62   |332.63000|336.45001|333.70999|2021-02-12|false        |false        |2025-04-14 20:19:50.795822|2025-04-14 20:21:36   |2025-04-14 20:23:08.603258|02c7d6f1730db0ed63aeb2436e07bb37d1216b0eec17bf4625e27a5f4e261f18|372fe21fb5f88a38ccd89cf40d3eb2f95f0ec2401cdc506fdf0b11acd219dff4|\n",
      "|035054a8cb9e168c7cbae33aef1efe6d0b12c7166489b7eba265edffc69df2fb|VOO   |NYSE        |USD     |ETF |America/New_York|8721300 |373.73001|342.59000|352.69000|349.76999|2021-03-05|true         |false        |2025-04-14 20:24:13.092926|null                  |2025-04-14 20:24:17.471645|035054a8cb9e168c7cbae33aef1efe6d0b12c7166489b7eba265edffc69df2fb|107d8d60bf33237130fa3df4a155691327e7efb0f4b608323017e298d3bbeb82|\n",
      "|035054a8cb9e168c7cbae33aef1efe6d0b12c7166489b7eba265edffc69df2fb|VOO   |NYSE        |USD     |ETF |America/New_York|8721300 |353.73001|342.59000|352.69000|349.76999|2021-03-05|false        |false        |2025-04-14 20:21:37.322054|2025-04-14 20:24:12   |2025-04-14 20:24:16.289109|035054a8cb9e168c7cbae33aef1efe6d0b12c7166489b7eba265edffc69df2fb|b939462410c813e83341dd9379377deaef1f5e7a08a3e915b2e7590a9f974830|\n",
      "+----------------------------------------------------------------+------+------------+--------+----+----------------+--------+---------+---------+---------+---------+----------+-------------+-------------+--------------------------+----------------------+--------------------------+----------------------------------------------------------------+----------------------------------------------------------------+\n",
      "only showing top 20 rows\n",
      "\n"
     ]
    }
   ],
   "source": [
    "df_silver = spark.read.format(\"delta\").load(silver_path)\n",
    "\n",
    "df_silver.createOrReplaceTempView(\"silver\") \n",
    "\n",
    "spark.sql(\"select __hashkey, * from silver order by __hashkey , __ActivationDateTime desc \").show(truncate=False)"
   ]
  },
  {
   "cell_type": "code",
   "execution_count": null,
   "metadata": {},
   "outputs": [],
   "source": [
    "df = spark.read.format(\"delta\").load(\"/Users/PC/Desktop/VS Code Repositories/azure-stock-market/Azure storage/Silver/delta-table\")\n",
    "df.schema"
   ]
  },
  {
   "cell_type": "code",
   "execution_count": null,
   "metadata": {},
   "outputs": [],
   "source": [
    "\n",
    "# from pyspark.sql.types import StructType, StructField, DateType, StringType, DecimalType, IntegerType\n",
    "\n",
    "\n",
    "# schema = StructType([StructField('Symbol', StringType(), True), \n",
    "#             StructField('ExchangeName', StringType(), True), \n",
    "#             StructField('Currency', StringType(), True), \n",
    "#             StructField('Type', StringType(), True), \n",
    "#             StructField('ExchangeTimeZone', StringType(), True), \n",
    "#             StructField('Volume', StringType(), True), \n",
    "#             StructField('High', StringType(), True), \n",
    "#             StructField('Low', StringType(), True), \n",
    "#             StructField('Close', StringType(), True), \n",
    "#             StructField('Open', StringType(), True), \n",
    "#             StructField('Date', StringType(), True)])\n",
    "\n",
    "df_silver = spark.createDataFrame( df_bronze , schema = schema )\n",
    "\n",
    "df_silver.show()"
   ]
  },
  {
   "cell_type": "code",
   "execution_count": null,
   "metadata": {},
   "outputs": [],
   "source": [
    "df = spark.read.load(\"/Users/PC/Desktop/VS Code Repositories/azure-stock-market/Azure storage/Bronze\"); \n",
    "\n",
    "df_dim = df.select(\n",
    "    col(\"meta\").getItem(\"symbol\").alias(\"Symbol\"),\n",
    "    col(\"meta\").getItem(\"exchange\").alias(\"ExchangeName\"),\n",
    "    col(\"meta\").getItem(\"currency\").alias(\"Currency\"),\n",
    "    col(\"meta\").getItem(\"type\").alias(\"Type\"),\n",
    "    col(\"meta\").getItem(\"exchange_timezone\").alias(\"ExchangeTimezone\")\n",
    "    ) \n",
    "\n",
    "\n",
    "# df_dim = df_dim.withColumn(\"__HashKey\", sha2( col(\"Symbol\"), 256)) \n",
    "# df_dim = df_dim.withColumn(\"__HashKey\", sha2( concat_ws(\"|\",  *businessColumnsList), 256)) \n",
    "\n",
    " \n",
    "# profile data\n",
    "df_dim.limit(1).show(truncate = False) \n",
    "\n",
    "\n",
    "TypeIColumnsList\n",
    "\n",
    " "
   ]
  },
  {
   "cell_type": "code",
   "execution_count": null,
   "metadata": {},
   "outputs": [],
   "source": [
    "\n",
    "df_flat_exploded = df_flat2.select(\n",
    "                        col(\"symbol\"),\n",
    "                        explode( \"values\").alias(\"record\"))\n",
    "                        \n",
    "                        # .withColumn( \"volume\" , col(\"record\").getItem(\"volume\") ) \\\n",
    "                        # .withColumn( \"high\" , col(\"record\").getItem(\"high\") ) \\\n",
    "                        # .withColumn( \"low\" , col(\"record\").getItem(\"low\") ) \\\n",
    "                        # .withColumn( \"close\" , col(\"record\").getItem(\"close\") ) \\\n",
    "                        # .withColumn( \"open\" , col(\"record\").getItem(\"open\") ) \\\n",
    "                        # .withColumn( \"date\" , col(\"record\").getItem(\"datetime\") ) \\\n",
    "                        #         .drop(\"record\")\n",
    "\n",
    "\n",
    "df_flat_exploded =   df_flat_exploded.select(\n",
    "        \"symbol\",\n",
    "        col(\"record\").getItem(\"volume\").alias(\"volume\"),\n",
    "        col(\"record\").getItem(\"high\").alias(\"high\"),\n",
    "        col(\"record\").getItem(\"low\").alias(\"low\"),\n",
    "        col(\"record\").getItem(\"close\").alias(\"close\"),\n",
    "        col(\"record\").getItem(\"open\").alias(\"open\"),\n",
    "        col(\"record\").getItem(\"date\").alias(\"date\")\n",
    "        \n",
    "  )   \n",
    "df_flat_exploded = df_flat_exploded.filter(  col(\"symbol\")  == \"VOO\" ).distinct().count()     \n",
    "\n",
    "\n",
    "print(df_flat_exploded)\n",
    "# df_flat_exploded.show(truncate = False )"
   ]
  },
  {
   "cell_type": "code",
   "execution_count": null,
   "metadata": {},
   "outputs": [],
   "source": []
  }
 ],
 "metadata": {
  "kernelspec": {
   "display_name": ".venv",
   "language": "python",
   "name": "python3"
  },
  "language_info": {
   "codemirror_mode": {
    "name": "ipython",
    "version": 3
   },
   "file_extension": ".py",
   "mimetype": "text/x-python",
   "name": "python",
   "nbconvert_exporter": "python",
   "pygments_lexer": "ipython3",
   "version": "3.11.11"
  }
 },
 "nbformat": 4,
 "nbformat_minor": 2
}
