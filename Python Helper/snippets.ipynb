{
 "cells": [
  {
   "cell_type": "code",
   "execution_count": 1,
   "metadata": {},
   "outputs": [
    {
     "name": "stderr",
     "output_type": "stream",
     "text": [
      "ERROR StatusLogger Reconfiguration failed: No configuration found for '5ffd2b27' at 'null' in 'null'\n",
      "ERROR StatusLogger Reconfiguration failed: No configuration found for 'Default' at 'null' in 'null'\n"
     ]
    },
    {
     "name": "stdout",
     "output_type": "stream",
     "text": [
      ":: loading settings :: url = jar:file:/Users/PC/Desktop/VS%20Code%20Repositories/azure-stock-market/.venv/lib/python3.11/site-packages/pyspark/jars/ivy-2.5.1.jar!/org/apache/ivy/core/settings/ivysettings.xml\n"
     ]
    },
    {
     "name": "stderr",
     "output_type": "stream",
     "text": [
      "Ivy Default Cache set to: /Users/PC/.ivy2/cache\n",
      "The jars for the packages stored in: /Users/PC/.ivy2/jars\n",
      "io.delta#delta-core_2.12 added as a dependency\n",
      ":: resolving dependencies :: org.apache.spark#spark-submit-parent-d5d63cc8-3c05-47c2-8fc5-175537019588;1.0\n",
      "\tconfs: [default]\n",
      "\tfound io.delta#delta-core_2.12;2.4.0 in central\n",
      "\tfound io.delta#delta-storage;2.4.0 in central\n",
      "\tfound org.antlr#antlr4-runtime;4.9.3 in central\n",
      ":: resolution report :: resolve 86ms :: artifacts dl 3ms\n",
      "\t:: modules in use:\n",
      "\tio.delta#delta-core_2.12;2.4.0 from central in [default]\n",
      "\tio.delta#delta-storage;2.4.0 from central in [default]\n",
      "\torg.antlr#antlr4-runtime;4.9.3 from central in [default]\n",
      "\t---------------------------------------------------------------------\n",
      "\t|                  |            modules            ||   artifacts   |\n",
      "\t|       conf       | number| search|dwnlded|evicted|| number|dwnlded|\n",
      "\t---------------------------------------------------------------------\n",
      "\t|      default     |   3   |   0   |   0   |   0   ||   3   |   0   |\n",
      "\t---------------------------------------------------------------------\n",
      ":: retrieving :: org.apache.spark#spark-submit-parent-d5d63cc8-3c05-47c2-8fc5-175537019588\n",
      "\tconfs: [default]\n",
      "\t0 artifacts copied, 3 already retrieved (0kB/3ms)\n",
      "25/04/20 16:15:06 WARN NativeCodeLoader: Unable to load native-hadoop library for your platform... using builtin-java classes where applicable\n",
      "Setting default log level to \"WARN\".\n",
      "To adjust logging level use sc.setLogLevel(newLevel). For SparkR, use setLogLevel(newLevel).\n",
      "25/04/20 16:15:07 WARN Utils: Service 'SparkUI' could not bind on port 4040. Attempting port 4041.\n",
      "25/04/20 16:15:07 WARN Utils: Service 'SparkUI' could not bind on port 4041. Attempting port 4042.\n"
     ]
    }
   ],
   "source": [
    "from dev_spark_session import DevSparkSession \n",
    "from get_stock_data import GetStockData\n",
    "\n",
    "stockdata = GetStockData() \n",
    "spark = DevSparkSession().spark\n"
   ]
  },
  {
   "cell_type": "code",
   "execution_count": 2,
   "metadata": {},
   "outputs": [],
   "source": [
    "from pyspark.sql.functions import col,explode,sha2,concat_ws,trim, lit"
   ]
  },
  {
   "cell_type": "markdown",
   "metadata": {},
   "source": [
    "### Bronze -> Silver"
   ]
  },
  {
   "cell_type": "code",
   "execution_count": 3,
   "metadata": {},
   "outputs": [
    {
     "name": "stderr",
     "output_type": "stream",
     "text": [
      "25/04/20 16:15:10 WARN HiveConf: HiveConf of name hive.stats.jdbc.timeout does not exist\n",
      "25/04/20 16:15:10 WARN HiveConf: HiveConf of name hive.stats.retries.wait does not exist\n",
      "25/04/20 16:15:11 WARN ObjectStore: Version information not found in metastore. hive.metastore.schema.verification is not enabled so recording the schema version 2.3.0\n",
      "25/04/20 16:15:11 WARN ObjectStore: setMetaStoreSchemaVersion called but recording version is disabled: version = 2.3.0, comment = Set by MetaStore PC@127.0.0.1\n",
      "25/04/20 16:15:11 WARN ObjectStore: Failed to get database default, returning NoSuchObjectException\n"
     ]
    },
    {
     "ename": "AnalysisException",
     "evalue": "The specified schema does not match the existing schema at file:/Users/PC/Desktop/VS Code Repositories/azure-stock-market/Azure storage/Silver/delta-table.\n\n== Specified ==\nroot\n |-- Symbol: string (nullable = true)\n |-- ExchangeName: string (nullable = true)\n |-- Currency: string (nullable = true)\n |-- Type: string (nullable = true)\n |-- ExchangeTimeZone: string (nullable = true)\n |-- Volume: string (nullable = true)\n |-- High: string (nullable = true)\n |-- Low: string (nullable = true)\n |-- Close: string (nullable = true)\n |-- Open: string (nullable = true)\n |-- Date: string (nullable = true)\n |-- __CurrentFlag: boolean (nullable = true)\n |-- __DeletedFlag: boolean (nullable = true)\n |-- __EffectiveStartDateTime: timestamp (nullable = true)\n |-- __EffectiveEndDateTime: timestamp (nullable = true)\n |-- __lastmodified: timestamp (nullable = true)\n |-- __HashKey: string (nullable = true)\n |-- __HashValue: string (nullable = true)\n\n\n== Existing ==\nroot\n |-- Symbol: string (nullable = true)\n |-- ExchangeName: string (nullable = true)\n |-- Currency: string (nullable = true)\n |-- Type: string (nullable = true)\n |-- ExchangeTimeZone: string (nullable = true)\n |-- Volume: string (nullable = true)\n |-- High: string (nullable = true)\n |-- Low: string (nullable = true)\n |-- Close: string (nullable = true)\n |-- Open: string (nullable = true)\n |-- Date: string (nullable = true)\n |-- __CurrentFlag: boolean (nullable = true)\n |-- __DeletedFlag: boolean (nullable = true)\n |-- __ActivationDateTime: timestamp (nullable = true)\n |-- __DeactivationDateTime: timestamp (nullable = true)\n |-- __lastmodified: timestamp (nullable = true)\n |-- __HashKey: string (nullable = true)\n |-- __HashValue: string (nullable = true)\n\n\n== Differences ==\n- Specified schema is missing field(s): __DeactivationDateTime, __ActivationDateTime\n- Specified schema has additional field(s): __EffectiveEndDateTime, __EffectiveStartDateTime\n\nIf your intention is to keep the existing schema, you can omit the\nschema from the create table command. Otherwise please ensure that\nthe schema matches.",
     "output_type": "error",
     "traceback": [
      "\u001b[0;31m---------------------------------------------------------------------------\u001b[0m",
      "\u001b[0;31mAnalysisException\u001b[0m                         Traceback (most recent call last)",
      "Cell \u001b[0;32mIn[3], line 5\u001b[0m\n\u001b[1;32m      1\u001b[0m \u001b[38;5;66;03m## create table \u001b[39;00m\n\u001b[1;32m      2\u001b[0m silver_path \u001b[38;5;241m=\u001b[39m \u001b[38;5;124m\"\u001b[39m\u001b[38;5;124m/Users/PC/Desktop/VS Code Repositories/azure-stock-market/Azure storage/Silver/delta-table\u001b[39m\u001b[38;5;124m\"\u001b[39m  \u001b[38;5;66;03m# Target location for Silver Delta table\u001b[39;00m\n\u001b[0;32m----> 5\u001b[0m \u001b[43mspark\u001b[49m\u001b[38;5;241;43m.\u001b[39;49m\u001b[43msql\u001b[49m\u001b[43m(\u001b[49m\u001b[43m \u001b[49m\u001b[38;5;124;43mf\u001b[39;49m\u001b[38;5;124;43m\"\"\"\u001b[39;49m\n\u001b[1;32m      6\u001b[0m \u001b[38;5;124;43m    CREATE TABLE my_delta_table (\u001b[39;49m\n\u001b[1;32m      7\u001b[0m \u001b[38;5;124;43m        Symbol STRING,\u001b[39;49m\n\u001b[1;32m      8\u001b[0m \u001b[38;5;124;43m        ExchangeName STRING,\u001b[39;49m\n\u001b[1;32m      9\u001b[0m \u001b[38;5;124;43m        Currency STRING,\u001b[39;49m\n\u001b[1;32m     10\u001b[0m \u001b[38;5;124;43m        Type STRING,\u001b[39;49m\n\u001b[1;32m     11\u001b[0m \u001b[38;5;124;43m        ExchangeTimeZone STRING,\u001b[39;49m\n\u001b[1;32m     12\u001b[0m \u001b[38;5;124;43m        Volume STRING,\u001b[39;49m\n\u001b[1;32m     13\u001b[0m \u001b[38;5;124;43m        High STRING,\u001b[39;49m\n\u001b[1;32m     14\u001b[0m \u001b[38;5;124;43m        Low STRING,\u001b[39;49m\n\u001b[1;32m     15\u001b[0m \u001b[38;5;124;43m        Close STRING,\u001b[39;49m\n\u001b[1;32m     16\u001b[0m \u001b[38;5;124;43m        Open STRING,\u001b[39;49m\n\u001b[1;32m     17\u001b[0m \u001b[38;5;124;43m        Date STRING,\u001b[39;49m\n\u001b[1;32m     18\u001b[0m \u001b[38;5;124;43m        __CurrentFlag BOOLEAN,\u001b[39;49m\n\u001b[1;32m     19\u001b[0m \u001b[38;5;124;43m        __DeletedFlag BOOLEAN,\u001b[39;49m\n\u001b[1;32m     20\u001b[0m \u001b[38;5;124;43m        __EffectiveStartDateTime TIMESTAMP,\u001b[39;49m\n\u001b[1;32m     21\u001b[0m \u001b[38;5;124;43m        __EffectiveEndDateTime TIMESTAMP,\u001b[39;49m\n\u001b[1;32m     22\u001b[0m \u001b[38;5;124;43m        __lastmodified TIMESTAMP,\u001b[39;49m\n\u001b[1;32m     23\u001b[0m \u001b[38;5;124;43m        __HashKey STRING,\u001b[39;49m\n\u001b[1;32m     24\u001b[0m \u001b[38;5;124;43m        __HashValue STRING\u001b[39;49m\n\u001b[1;32m     25\u001b[0m \u001b[38;5;124;43m)\u001b[39;49m\n\u001b[1;32m     26\u001b[0m \u001b[38;5;124;43mUSING DELTA\u001b[39;49m\n\u001b[1;32m     27\u001b[0m \u001b[38;5;124;43mLOCATION  \u001b[39;49m\u001b[38;5;124;43m'\u001b[39;49m\u001b[38;5;132;43;01m{\u001b[39;49;00m\u001b[43msilver_path\u001b[49m\u001b[38;5;132;43;01m}\u001b[39;49;00m\u001b[38;5;124;43m'\u001b[39;49m\u001b[38;5;124;43m;          \u001b[39;49m\n\u001b[1;32m     28\u001b[0m \u001b[38;5;124;43m        \u001b[39;49m\u001b[38;5;124;43m\"\"\"\u001b[39;49m\u001b[43m)\u001b[49m\n\u001b[1;32m     31\u001b[0m \u001b[38;5;66;03m# ## re-create table \u001b[39;00m\n\u001b[1;32m     32\u001b[0m \n\u001b[1;32m     33\u001b[0m \n\u001b[0;32m   (...)\u001b[0m\n\u001b[1;32m     36\u001b[0m \u001b[38;5;66;03m# truncate_silver = spark.createDataFrame([], schema= truncate_schema)\u001b[39;00m\n\u001b[1;32m     37\u001b[0m \u001b[38;5;66;03m# truncate_silver.write.format(\"delta\").mode(\"overwrite\").save(silver_path)\u001b[39;00m\n",
      "File \u001b[0;32m~/Desktop/VS Code Repositories/azure-stock-market/.venv/lib/python3.11/site-packages/pyspark/sql/session.py:1440\u001b[0m, in \u001b[0;36mSparkSession.sql\u001b[0;34m(self, sqlQuery, args, **kwargs)\u001b[0m\n\u001b[1;32m   1438\u001b[0m \u001b[38;5;28;01mtry\u001b[39;00m:\n\u001b[1;32m   1439\u001b[0m     litArgs \u001b[38;5;241m=\u001b[39m {k: _to_java_column(lit(v)) \u001b[38;5;28;01mfor\u001b[39;00m k, v \u001b[38;5;129;01min\u001b[39;00m (args \u001b[38;5;129;01mor\u001b[39;00m {})\u001b[38;5;241m.\u001b[39mitems()}\n\u001b[0;32m-> 1440\u001b[0m     \u001b[38;5;28;01mreturn\u001b[39;00m DataFrame(\u001b[38;5;28;43mself\u001b[39;49m\u001b[38;5;241;43m.\u001b[39;49m\u001b[43m_jsparkSession\u001b[49m\u001b[38;5;241;43m.\u001b[39;49m\u001b[43msql\u001b[49m\u001b[43m(\u001b[49m\u001b[43msqlQuery\u001b[49m\u001b[43m,\u001b[49m\u001b[43m \u001b[49m\u001b[43mlitArgs\u001b[49m\u001b[43m)\u001b[49m, \u001b[38;5;28mself\u001b[39m)\n\u001b[1;32m   1441\u001b[0m \u001b[38;5;28;01mfinally\u001b[39;00m:\n\u001b[1;32m   1442\u001b[0m     \u001b[38;5;28;01mif\u001b[39;00m \u001b[38;5;28mlen\u001b[39m(kwargs) \u001b[38;5;241m>\u001b[39m \u001b[38;5;241m0\u001b[39m:\n",
      "File \u001b[0;32m~/Desktop/VS Code Repositories/azure-stock-market/.venv/lib/python3.11/site-packages/py4j/java_gateway.py:1322\u001b[0m, in \u001b[0;36mJavaMember.__call__\u001b[0;34m(self, *args)\u001b[0m\n\u001b[1;32m   1316\u001b[0m command \u001b[38;5;241m=\u001b[39m proto\u001b[38;5;241m.\u001b[39mCALL_COMMAND_NAME \u001b[38;5;241m+\u001b[39m\\\n\u001b[1;32m   1317\u001b[0m     \u001b[38;5;28mself\u001b[39m\u001b[38;5;241m.\u001b[39mcommand_header \u001b[38;5;241m+\u001b[39m\\\n\u001b[1;32m   1318\u001b[0m     args_command \u001b[38;5;241m+\u001b[39m\\\n\u001b[1;32m   1319\u001b[0m     proto\u001b[38;5;241m.\u001b[39mEND_COMMAND_PART\n\u001b[1;32m   1321\u001b[0m answer \u001b[38;5;241m=\u001b[39m \u001b[38;5;28mself\u001b[39m\u001b[38;5;241m.\u001b[39mgateway_client\u001b[38;5;241m.\u001b[39msend_command(command)\n\u001b[0;32m-> 1322\u001b[0m return_value \u001b[38;5;241m=\u001b[39m \u001b[43mget_return_value\u001b[49m\u001b[43m(\u001b[49m\n\u001b[1;32m   1323\u001b[0m \u001b[43m    \u001b[49m\u001b[43manswer\u001b[49m\u001b[43m,\u001b[49m\u001b[43m \u001b[49m\u001b[38;5;28;43mself\u001b[39;49m\u001b[38;5;241;43m.\u001b[39;49m\u001b[43mgateway_client\u001b[49m\u001b[43m,\u001b[49m\u001b[43m \u001b[49m\u001b[38;5;28;43mself\u001b[39;49m\u001b[38;5;241;43m.\u001b[39;49m\u001b[43mtarget_id\u001b[49m\u001b[43m,\u001b[49m\u001b[43m \u001b[49m\u001b[38;5;28;43mself\u001b[39;49m\u001b[38;5;241;43m.\u001b[39;49m\u001b[43mname\u001b[49m\u001b[43m)\u001b[49m\n\u001b[1;32m   1325\u001b[0m \u001b[38;5;28;01mfor\u001b[39;00m temp_arg \u001b[38;5;129;01min\u001b[39;00m temp_args:\n\u001b[1;32m   1326\u001b[0m     \u001b[38;5;28;01mif\u001b[39;00m \u001b[38;5;28mhasattr\u001b[39m(temp_arg, \u001b[38;5;124m\"\u001b[39m\u001b[38;5;124m_detach\u001b[39m\u001b[38;5;124m\"\u001b[39m):\n",
      "File \u001b[0;32m~/Desktop/VS Code Repositories/azure-stock-market/.venv/lib/python3.11/site-packages/pyspark/errors/exceptions/captured.py:175\u001b[0m, in \u001b[0;36mcapture_sql_exception.<locals>.deco\u001b[0;34m(*a, **kw)\u001b[0m\n\u001b[1;32m    171\u001b[0m converted \u001b[38;5;241m=\u001b[39m convert_exception(e\u001b[38;5;241m.\u001b[39mjava_exception)\n\u001b[1;32m    172\u001b[0m \u001b[38;5;28;01mif\u001b[39;00m \u001b[38;5;129;01mnot\u001b[39;00m \u001b[38;5;28misinstance\u001b[39m(converted, UnknownException):\n\u001b[1;32m    173\u001b[0m     \u001b[38;5;66;03m# Hide where the exception came from that shows a non-Pythonic\u001b[39;00m\n\u001b[1;32m    174\u001b[0m     \u001b[38;5;66;03m# JVM exception message.\u001b[39;00m\n\u001b[0;32m--> 175\u001b[0m     \u001b[38;5;28;01mraise\u001b[39;00m converted \u001b[38;5;28;01mfrom\u001b[39;00m\u001b[38;5;250m \u001b[39m\u001b[38;5;28;01mNone\u001b[39;00m\n\u001b[1;32m    176\u001b[0m \u001b[38;5;28;01melse\u001b[39;00m:\n\u001b[1;32m    177\u001b[0m     \u001b[38;5;28;01mraise\u001b[39;00m\n",
      "\u001b[0;31mAnalysisException\u001b[0m: The specified schema does not match the existing schema at file:/Users/PC/Desktop/VS Code Repositories/azure-stock-market/Azure storage/Silver/delta-table.\n\n== Specified ==\nroot\n |-- Symbol: string (nullable = true)\n |-- ExchangeName: string (nullable = true)\n |-- Currency: string (nullable = true)\n |-- Type: string (nullable = true)\n |-- ExchangeTimeZone: string (nullable = true)\n |-- Volume: string (nullable = true)\n |-- High: string (nullable = true)\n |-- Low: string (nullable = true)\n |-- Close: string (nullable = true)\n |-- Open: string (nullable = true)\n |-- Date: string (nullable = true)\n |-- __CurrentFlag: boolean (nullable = true)\n |-- __DeletedFlag: boolean (nullable = true)\n |-- __EffectiveStartDateTime: timestamp (nullable = true)\n |-- __EffectiveEndDateTime: timestamp (nullable = true)\n |-- __lastmodified: timestamp (nullable = true)\n |-- __HashKey: string (nullable = true)\n |-- __HashValue: string (nullable = true)\n\n\n== Existing ==\nroot\n |-- Symbol: string (nullable = true)\n |-- ExchangeName: string (nullable = true)\n |-- Currency: string (nullable = true)\n |-- Type: string (nullable = true)\n |-- ExchangeTimeZone: string (nullable = true)\n |-- Volume: string (nullable = true)\n |-- High: string (nullable = true)\n |-- Low: string (nullable = true)\n |-- Close: string (nullable = true)\n |-- Open: string (nullable = true)\n |-- Date: string (nullable = true)\n |-- __CurrentFlag: boolean (nullable = true)\n |-- __DeletedFlag: boolean (nullable = true)\n |-- __ActivationDateTime: timestamp (nullable = true)\n |-- __DeactivationDateTime: timestamp (nullable = true)\n |-- __lastmodified: timestamp (nullable = true)\n |-- __HashKey: string (nullable = true)\n |-- __HashValue: string (nullable = true)\n\n\n== Differences ==\n- Specified schema is missing field(s): __DeactivationDateTime, __ActivationDateTime\n- Specified schema has additional field(s): __EffectiveEndDateTime, __EffectiveStartDateTime\n\nIf your intention is to keep the existing schema, you can omit the\nschema from the create table command. Otherwise please ensure that\nthe schema matches."
     ]
    }
   ],
   "source": [
    "## create table \n",
    "silver_path = \"/Users/PC/Desktop/VS Code Repositories/azure-stock-market/Azure storage/Silver/delta-table\"  # Target location for Silver Delta table\n",
    "\n",
    "\n",
    "spark.sql( f\"\"\"\n",
    "    CREATE TABLE my_delta_table (\n",
    "        Symbol STRING,\n",
    "        ExchangeName STRING,\n",
    "        Currency STRING,\n",
    "        Type STRING,\n",
    "        ExchangeTimeZone STRING,\n",
    "        Volume STRING,\n",
    "        High STRING,\n",
    "        Low STRING,\n",
    "        Close STRING,\n",
    "        Open STRING,\n",
    "        Date STRING,\n",
    "        __CurrentFlag BOOLEAN,\n",
    "        __DeletedFlag BOOLEAN,\n",
    "        __EffectiveStartDateTime TIMESTAMP,\n",
    "        __EffectiveEndDateTime TIMESTAMP,\n",
    "        __lastmodified TIMESTAMP,\n",
    "        __HashKey STRING,\n",
    "        __HashValue STRING\n",
    ")\n",
    "USING DELTA\n",
    "LOCATION  '{silver_path}';          \n",
    "        \"\"\")\n",
    "\n",
    "\n",
    "# ## re-create table \n",
    "\n",
    "\n",
    "# truncate_schema = spark.read.format(\"delta\").load(silver_path).schema\n",
    "\n",
    "# truncate_silver = spark.createDataFrame([], schema= truncate_schema)\n",
    "# truncate_silver.write.format(\"delta\").mode(\"overwrite\").save(silver_path)\n",
    "\n"
   ]
  },
  {
   "cell_type": "code",
   "execution_count": null,
   "metadata": {},
   "outputs": [
    {
     "ename": "KeyError",
     "evalue": "'numTargetRowsInserted'",
     "output_type": "error",
     "traceback": [
      "\u001b[0;31m---------------------------------------------------------------------------\u001b[0m",
      "\u001b[0;31mKeyError\u001b[0m                                  Traceback (most recent call last)",
      "Cell \u001b[0;32mIn[7], line 10\u001b[0m\n\u001b[1;32m      1\u001b[0m df_history \u001b[38;5;241m=\u001b[39m spark\u001b[38;5;241m.\u001b[39msql(\u001b[38;5;124mf\u001b[39m\u001b[38;5;124m\"\"\"\u001b[39m\n\u001b[1;32m      2\u001b[0m \u001b[38;5;124m    DESCRIBE HISTORY delta.`\u001b[39m\u001b[38;5;132;01m{\u001b[39;00msilver_path\u001b[38;5;132;01m}\u001b[39;00m\u001b[38;5;124m` \u001b[39m\n\u001b[1;32m      3\u001b[0m \u001b[38;5;124m    LIMIT 1\u001b[39m\n\u001b[1;32m      4\u001b[0m \u001b[38;5;124m\"\"\"\u001b[39m)\n\u001b[1;32m      6\u001b[0m df_history \u001b[38;5;241m=\u001b[39m df_history\u001b[38;5;241m.\u001b[39mselect(\u001b[38;5;124m\"\u001b[39m\u001b[38;5;124moperationMetrics\u001b[39m\u001b[38;5;124m\"\u001b[39m)\u001b[38;5;241m.\u001b[39mhead()[\u001b[38;5;241m0\u001b[39m]\n\u001b[1;32m      9\u001b[0m audit \u001b[38;5;241m=\u001b[39m   { \u001b[38;5;124m\"\u001b[39m\u001b[38;5;124moutputrows\u001b[39m\u001b[38;5;124m\"\u001b[39m :  df_history[\u001b[38;5;124m\"\u001b[39m\u001b[38;5;124mnumOutputRows\u001b[39m\u001b[38;5;124m\"\u001b[39m],\n\u001b[0;32m---> 10\u001b[0m             \u001b[38;5;124m\"\u001b[39m\u001b[38;5;124minserted\u001b[39m\u001b[38;5;124m\"\u001b[39m: \u001b[43mdf_history\u001b[49m\u001b[43m[\u001b[49m\u001b[38;5;124;43m\"\u001b[39;49m\u001b[38;5;124;43mnumTargetRowsInserted\u001b[39;49m\u001b[38;5;124;43m\"\u001b[39;49m\u001b[43m]\u001b[49m,\n\u001b[1;32m     11\u001b[0m             \u001b[38;5;124m\"\u001b[39m\u001b[38;5;124mupdated\u001b[39m\u001b[38;5;124m\"\u001b[39m: df_history[\u001b[38;5;124m\"\u001b[39m\u001b[38;5;124mnumTargetRowsUpdated\u001b[39m\u001b[38;5;124m\"\u001b[39m],\n\u001b[1;32m     12\u001b[0m             \u001b[38;5;124m\"\u001b[39m\u001b[38;5;124mdeleted\u001b[39m\u001b[38;5;124m\"\u001b[39m: df_history[\u001b[38;5;124m\"\u001b[39m\u001b[38;5;124mnumTargetRowsDeleted\u001b[39m\u001b[38;5;124m\"\u001b[39m] }\n\u001b[1;32m     15\u001b[0m audit \u001b[38;5;241m=\u001b[39m { key : value \u001b[38;5;28;01mfor\u001b[39;00m key, value  \u001b[38;5;129;01min\u001b[39;00m audit\u001b[38;5;241m.\u001b[39mitems() \u001b[38;5;28;01mif\u001b[39;00m value \u001b[38;5;241m!=\u001b[39m \u001b[38;5;124m'\u001b[39m\u001b[38;5;124m0\u001b[39m\u001b[38;5;124m'\u001b[39m }\n\u001b[1;32m     17\u001b[0m audit\n",
      "\u001b[0;31mKeyError\u001b[0m: 'numTargetRowsInserted'"
     ]
    }
   ],
   "source": [
    "\n",
    "# from pyspark.sql.types import StructType, StructField, DateType, StringType, DecimalType, IntegerType\n",
    "\n",
    "\n",
    "# schema = StructType([StructField('Symbol', StringType(), True), \n",
    "#             StructField('ExchangeName', StringType(), True), \n",
    "#             StructField('Currency', StringType(), True), \n",
    "#             StructField('Type', StringType(), True), \n",
    "#             StructField('ExchangeTimeZone', StringType(), True), \n",
    "#             StructField('Volume', StringType(), True), \n",
    "#             StructField('High', StringType(), True), \n",
    "#             StructField('Low', StringType(), True), \n",
    "#             StructField('Close', StringType(), True), \n",
    "#             StructField('Open', StringType(), True), \n",
    "#             StructField('Date', StringType(), True)])\n",
    "\n",
    "df_silver = spark.createDataFrame( df_bronze , schema = schema )\n",
    "\n",
    "df_silver.show()"
   ]
  }
 ],
 "metadata": {
  "kernelspec": {
   "display_name": ".venv",
   "language": "python",
   "name": "python3"
  },
  "language_info": {
   "codemirror_mode": {
    "name": "ipython",
    "version": 3
   },
   "file_extension": ".py",
   "mimetype": "text/x-python",
   "name": "python",
   "nbconvert_exporter": "python",
   "pygments_lexer": "ipython3",
   "version": "3.11.11"
  }
 },
 "nbformat": 4,
 "nbformat_minor": 2
}
