{
 "cells": [
  {
   "cell_type": "code",
   "execution_count": null,
   "metadata": {},
   "outputs": [],
   "source": [
    "import sys, os\n",
    "from pyspark.sql.functions import col, monotonically_increasing_id, expr, date_format, sha2, concat_ws\n",
    "from delta.tables import DeltaTable\n",
    "from datetime import date, timedelta\n",
    "\n",
    "\n",
    "# Insert the parent directory (one level up) onto Python’s module search path\n",
    "sys.path.insert(0, os.path.abspath(\"..\"))\n",
    "\n",
    "from dev_spark_session import DevSparkSession \n",
    "from scd_type2_handler import SCDType2Handler\n",
    "from python_helper import HelperMethons\n",
    "\n"
   ]
  },
  {
   "cell_type": "markdown",
   "metadata": {},
   "source": [
    "### Initiate Spark"
   ]
  },
  {
   "cell_type": "code",
   "execution_count": null,
   "metadata": {},
   "outputs": [],
   "source": [
    "\n",
    "# stockdata = GetStockData() \n",
    "spark = DevSparkSession().spark\n",
    "\n",
    "\n",
    "silver_path = \"/Users/PC/Desktop/VS Code Repositories/azure-stock-market/Azure storage/Silver/delta-table\"  # Target location for Silver Delta table\n",
    "dim_symbol_path = \"/Users/PC/Desktop/VS Code Repositories/azure-stock-market/Azure storage/Gold/delta-tables/dim-symbol\"\n",
    "dim_date_path = \"/Users/PC/Desktop/VS Code Repositories/azure-stock-market/Azure storage/Gold/delta-tables/dim-date\"\n",
    "fact_daily_path = \"/Users/PC/Desktop/VS Code Repositories/azure-stock-market/Azure storage/Gold/delta-tables/fact-daily-summary\"\n",
    "\n"
   ]
  },
  {
   "cell_type": "markdown",
   "metadata": {},
   "source": [
    "## Fact Trading Loader"
   ]
  },
  {
   "cell_type": "code",
   "execution_count": null,
   "metadata": {},
   "outputs": [],
   "source": [
    "df_silver = spark.read.format(\"delta\").load(silver_path)\n",
    "df_fact =  df_silver\n",
    "df_fact =  df_fact.withColumn(\"DateID\", date_format(col(\"Date\"), \"yyyyMMdd\").cast(\"int\")).drop(\"Date\")\n",
    "\n",
    "\n",
    "# Add Hash Key for Dim Symbol \n",
    "\n",
    "businessColumns  = [\"Symbol\", \"ExchangeName\", \"Currency\"] \n",
    "df_fact = df_fact.withColumn(\"DimSymbolBusinessHash\" , sha2( concat_ws(\"|\", *businessColumns), 256))\n",
    "\n",
    "\n",
    "\n",
    "df_dim_symbol = spark.table(f\"delta.`{dim_symbol_path}` \")\n",
    "\n",
    "df_fact = df_fact.alias(\"f\").join(df_dim_symbol.alias(\"d\"), on = expr(\"f.DimSymbolBusinessHash = d.__BusinessKeyHash\"), how = \"left\" ) \\\n",
    "                .where(\"d.__CurrentFlag = true\") \\\n",
    "                .selectExpr(\"d.SymbolSID\", \n",
    "                            \"f.Volume\", \n",
    "                            \"f.High\",\n",
    "                            \"f.Low\",\n",
    "                            \"f.Open\",\n",
    "                            \"f.Close\",\n",
    "                            \"f.DateID\"\n",
    "                )\n",
    "\n",
    "\n",
    "\n",
    "parameters = {\n",
    "        \"businessColumns\" : \"Symbol,ExchangeName,Currency\",\n",
    "        \"typeIColumns\" : \"\", \n",
    "        \"tableType\" : \"Fact\"\n",
    "        }\n",
    "\n",
    "scd2Handler =  SCDType2Handler(parameters)\n",
    "\n",
    "\n",
    "scd2Handler.refresh_timestamp()\n",
    "add_audit_columns =  scd2Handler.add_audit_columns\n",
    "df_fact = df_fact.transform(add_audit_columns)\n",
    "\n",
    "\n",
    "## ADD_SID\n",
    "\n",
    "sid_offest = spark.read.format(\"delta\").load(fact_daily_path)\n",
    "sid_offest = sid_offest.selectExpr(\"max(TransactionSID)\").head()[0]\n",
    "sid_offest = sid_offest + 1 if sid_offest else 0\n",
    "\n",
    "\n",
    "\n",
    "df_fact = df_fact.withColumn(\"TransactionSID\", monotonically_increasing_id() +  sid_offest)\n",
    "\n",
    "\n",
    "df_fact.show()\n",
    "deltaTable = DeltaTable.forPath(spark, fact_daily_path)\n",
    "scd2Handler.delta_merge_typeII(deltaTable, df_fact)\n",
    "\n",
    "\n"
   ]
  },
  {
   "cell_type": "code",
   "execution_count": null,
   "metadata": {},
   "outputs": [],
   "source": [
    "# df_history = spark.sql(f\" select   year , count(*)  from  delta.`{dim_date_path}` group by year   order by year asc \")\n",
    "\n",
    "\n",
    "# df_history.show(100, truncate=False)"
   ]
  },
  {
   "cell_type": "markdown",
   "metadata": {},
   "source": [
    "## Populate Dim Table if needed"
   ]
  },
  {
   "cell_type": "code",
   "execution_count": null,
   "metadata": {},
   "outputs": [],
   "source": [
    "\n",
    "\n",
    "hm = HelperMethons(spark=spark)\n",
    "df_dimdate = spark.read.format(\"delta\").load(dim_date_path)  \n",
    "\n",
    "\n",
    "df_fact_daily = spark.read.format(\"delta\").load(fact_daily_path)  \n",
    "\n",
    "\n",
    "\n",
    "max_date_dimDate =  df_dimdate.selectExpr(\"cast(max(date) as date) as min_date\").head()[0]\n",
    "min_date_fact =  df_fact_daily.selectExpr(\"to_date(cast(min(DateID) as string), 'yyyyMMdd') as min_date\").head()[0]\n",
    "max_date_fact =  df_fact_daily.selectExpr(\"to_date(cast(max(DateID) as string), 'yyyyMMdd') as max_date\").head()[0]\n",
    "\n",
    "print(max_date_dimDate,min_date_fact, max_date_fact)\n",
    "\n",
    "## populate DimDate table if we dont have records with dates \n",
    "if min_date_fact > max_date_dimDate: \n",
    "    \n",
    "    print(\"work\")\n",
    "    \n",
    "    start_date = max_date_dimDate + timedelta(days=1)\n",
    "    end_date =  date( max_date_fact.year , 12, 31)\n",
    "    \n",
    "    hm.update_DimDate_fromRange(start_date, end_date )\n",
    "    print(f\"Dim Table Updated with date range [ {start_date} : {end_date} ] \")\n",
    "    \n",
    "    \n",
    "\n",
    "\n"
   ]
  }
 ],
 "metadata": {
  "kernelspec": {
   "display_name": ".venv",
   "language": "python",
   "name": "python3"
  },
  "language_info": {
   "codemirror_mode": {
    "name": "ipython",
    "version": 3
   },
   "file_extension": ".py",
   "mimetype": "text/x-python",
   "name": "python",
   "nbconvert_exporter": "python",
   "pygments_lexer": "ipython3",
   "version": "3.11.11"
  }
 },
 "nbformat": 4,
 "nbformat_minor": 2
}
