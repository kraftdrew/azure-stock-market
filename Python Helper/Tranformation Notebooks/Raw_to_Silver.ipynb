{
 "cells": [
  {
   "cell_type": "code",
   "execution_count": 1,
   "metadata": {},
   "outputs": [],
   "source": [
    "\n",
    "import sys, os\n",
    "from pyspark.sql.functions import col, explode # lit, cast  \n",
    "from pyspark.sql.types import DateType, TimestampType   # sha2,concat_ws,trim, lit\n",
    "\n",
    "# Insert the parent directory (one level up) onto Python’s module search path\n",
    "sys.path.insert(0, os.path.abspath(\"..\"))\n",
    "\n",
    "from dev_spark_session import DevSparkSession \n",
    "from get_stock_data import GetStockData\n",
    "from scd_type2_handler import SCDType2Handler\n",
    "from delta.tables import DeltaTable\n",
    "\n"
   ]
  },
  {
   "cell_type": "markdown",
   "metadata": {},
   "source": [
    "### Initiate Spark"
   ]
  },
  {
   "cell_type": "code",
   "execution_count": 2,
   "metadata": {},
   "outputs": [
    {
     "name": "stderr",
     "output_type": "stream",
     "text": [
      "ERROR StatusLogger Reconfiguration failed: No configuration found for '5ffd2b27' at 'null' in 'null'\n",
      "ERROR StatusLogger Reconfiguration failed: No configuration found for 'Default' at 'null' in 'null'\n"
     ]
    },
    {
     "name": "stdout",
     "output_type": "stream",
     "text": [
      ":: loading settings :: url = jar:file:/Users/PC/Desktop/VS%20Code%20Repositories/azure-stock-market/.venv/lib/python3.11/site-packages/pyspark/jars/ivy-2.5.1.jar!/org/apache/ivy/core/settings/ivysettings.xml\n"
     ]
    },
    {
     "name": "stderr",
     "output_type": "stream",
     "text": [
      "Ivy Default Cache set to: /Users/PC/.ivy2/cache\n",
      "The jars for the packages stored in: /Users/PC/.ivy2/jars\n",
      "io.delta#delta-core_2.12 added as a dependency\n",
      ":: resolving dependencies :: org.apache.spark#spark-submit-parent-4396b00a-2f9b-4f63-866b-f6814adae054;1.0\n",
      "\tconfs: [default]\n",
      "\tfound io.delta#delta-core_2.12;2.4.0 in central\n",
      "\tfound io.delta#delta-storage;2.4.0 in central\n",
      "\tfound org.antlr#antlr4-runtime;4.9.3 in central\n",
      ":: resolution report :: resolve 85ms :: artifacts dl 3ms\n",
      "\t:: modules in use:\n",
      "\tio.delta#delta-core_2.12;2.4.0 from central in [default]\n",
      "\tio.delta#delta-storage;2.4.0 from central in [default]\n",
      "\torg.antlr#antlr4-runtime;4.9.3 from central in [default]\n",
      "\t---------------------------------------------------------------------\n",
      "\t|                  |            modules            ||   artifacts   |\n",
      "\t|       conf       | number| search|dwnlded|evicted|| number|dwnlded|\n",
      "\t---------------------------------------------------------------------\n",
      "\t|      default     |   3   |   0   |   0   |   0   ||   3   |   0   |\n",
      "\t---------------------------------------------------------------------\n",
      ":: retrieving :: org.apache.spark#spark-submit-parent-4396b00a-2f9b-4f63-866b-f6814adae054\n",
      "\tconfs: [default]\n",
      "\t0 artifacts copied, 3 already retrieved (0kB/3ms)\n",
      "25/04/20 18:52:43 WARN NativeCodeLoader: Unable to load native-hadoop library for your platform... using builtin-java classes where applicable\n",
      "Setting default log level to \"WARN\".\n",
      "To adjust logging level use sc.setLogLevel(newLevel). For SparkR, use setLogLevel(newLevel).\n",
      "25/04/20 18:52:44 WARN Utils: Service 'SparkUI' could not bind on port 4040. Attempting port 4041.\n",
      "25/04/20 18:52:44 WARN Utils: Service 'SparkUI' could not bind on port 4041. Attempting port 4042.\n"
     ]
    }
   ],
   "source": [
    "stockdata = GetStockData() \n",
    "spark = DevSparkSession().spark"
   ]
  },
  {
   "cell_type": "markdown",
   "metadata": {},
   "source": [
    "### Get Data from API"
   ]
  },
  {
   "cell_type": "code",
   "execution_count": 3,
   "metadata": {},
   "outputs": [
    {
     "name": "stdout",
     "output_type": "stream",
     "text": [
      "data saved for symbol QQQ and date range 2021-01-01 to 2021-12-31.\n",
      "data saved for symbol VOO and date range 2021-01-01 to 2021-12-31.\n"
     ]
    },
    {
     "name": "stderr",
     "output_type": "stream",
     "text": [
      "                                                                                \r"
     ]
    }
   ],
   "source": [
    "json_data  = stockdata.get_historical_stock_data()\n",
    "\n",
    "\n",
    "df = spark.createDataFrame(json_data) \n",
    "\n",
    "df = df.withColumn(\"symbol\", col(\"meta\").symbol).filter( col(\"status\") == \"ok\" ).drop(df.status)\n",
    "\n",
    "# df.show(truncate = False)\n",
    "\n",
    "\n",
    "df.write \\\n",
    "    .format(\"parquet\") \\\n",
    "    .mode(\"overwrite\") \\\n",
    "    .partitionBy( \"symbol\" ) \\\n",
    "    .save(\"/Users/PC/Desktop/VS Code Repositories/azure-stock-market/Azure storage/Bronze\")\n",
    "\n"
   ]
  },
  {
   "cell_type": "markdown",
   "metadata": {},
   "source": [
    "### Bronze -> Silver"
   ]
  },
  {
   "cell_type": "code",
   "execution_count": 4,
   "metadata": {},
   "outputs": [],
   "source": [
    "\n",
    "\n",
    "# Paths for Bronze and Silver data\n",
    "bronze_path = \"/Users/PC/Desktop/VS Code Repositories/azure-stock-market/Azure storage/Bronze\"  # Bronze data stored in Parquet or Delta\n",
    "silver_path = \"/Users/PC/Desktop/VS Code Repositories/azure-stock-market/Azure storage/Silver/delta-table\"  # Target location for Silver Delta table\n",
    "\n",
    "\n",
    "\n",
    "### Tranformt Bronze -> Silver\n",
    "\n",
    "df_bronze = spark.read.load(bronze_path).drop(\"symbol\")\n",
    "\n",
    "df_bronze = df_bronze.withColumn( \"values\", explode(\"values\") )\n",
    "\n",
    "df_bronze = df_bronze.select(\n",
    "    col(\"meta\").getItem(\"symbol\").alias(\"Symbol\"),\n",
    "    col(\"meta\").getItem(\"exchange\").alias(\"ExchangeName\"),\n",
    "    col(\"meta\").getItem(\"currency\").alias(\"Currency\"),\n",
    "    col(\"meta\").getItem(\"type\").alias(\"Type\"),\n",
    "    col(\"meta\").getItem(\"exchange_timezone\").alias(\"ExchangeTimeZone\"),\n",
    "    col(\"values\").getItem(\"volume\").alias(\"Volume\"),\n",
    "    col(\"values\").getItem(\"high\").alias(\"High\"),\n",
    "    col(\"values\").getItem(\"low\").alias(\"Low\"),\n",
    "    col(\"values\").getItem(\"close\").alias(\"Close\"),\n",
    "    col(\"values\").getItem(\"open\").alias(\"Open\"),\n",
    "    col(\"values\").getItem(\"datetime\").alias(\"Date\"))\n",
    "\n",
    "df_bronze = df_bronze.dropDuplicates()\n",
    "\n",
    "\n",
    "# df_bronze.show()\n"
   ]
  },
  {
   "cell_type": "code",
   "execution_count": 5,
   "metadata": {},
   "outputs": [
    {
     "name": "stdout",
     "output_type": "stream",
     "text": [
      "+------+------------+--------+----+----------------+--------+----------+---------+----------+----------+----------+-------------+-------------+--------------------------+----------------------+-------------------------+----------------------------------------------------------------+----------------------------------------------------------------+\n",
      "|Symbol|ExchangeName|Currency|Type|ExchangeTimeZone|Volume  |High      |Low      |Close     |Open      |Date      |__CurrentFlag|__DeletedFlag|__EffectiveStartDateTime  |__EffectiveEndDateTime|__lastmodified           |__HashKey                                                       |__HashValue                                                     |\n",
      "+------+------------+--------+----+----------------+--------+----------+---------+----------+----------+----------+-------------+-------------+--------------------------+----------------------+-------------------------+----------------------------------------------------------------+----------------------------------------------------------------+\n",
      "|QQQ   |NASDAQ      |USD     |ETF |America/New_York|48899500|389.53000 |380.20001|389.20999 |384.049988|2021-12-21|true         |false        |2025-04-20 18:52:52.785384|2099-12-31 00:00:00   |2025-04-20 18:52:52.92234|5ac60b119542fcd12d808ea8f9731cbd563a960c90ab2af95439b7134bc318b1|5722ae41cd184dd5a8f9af845e834becf3e4bcbf556b1ab1ba8395f5f5984bb2|\n",
      "|QQQ   |NASDAQ      |USD     |ETF |America/New_York|52545800|398.28000 |393.35999|398.010010|396.62000 |2021-12-10|true         |false        |2025-04-20 18:52:52.785384|2099-12-31 00:00:00   |2025-04-20 18:52:52.92234|c2e4e97bd06a80a44191927afa09591b4da8a4166b65d863cf7629a1888d1f74|b11996d25c6f3a5bfe6b3b874174c32112904913ebd778155d2eb2ee66c33f6f|\n",
      "|QQQ   |NASDAQ      |USD     |ETF |America/New_York|36664900|337.32001 |332.92001|337.10999 |333.67999 |2021-04-09|true         |false        |2025-04-20 18:52:52.785384|2099-12-31 00:00:00   |2025-04-20 18:52:52.92234|b6e818175f448f634d537a7bc9839407bb53c4b24da126b7880fb8ef3f737e01|385f53f7a2aa6636eb1834c36a0bf71de875154ac20ebf07701d0d5258a428d5|\n",
      "|QQQ   |NASDAQ      |USD     |ETF |America/New_York|33187200|342.14999 |339.17001|340.14999 |341.92999 |2021-04-27|true         |false        |2025-04-20 18:52:52.785384|2099-12-31 00:00:00   |2025-04-20 18:52:52.92234|e279e87096835cb69ab73fae68c2a4ed98c777de375ec48d253cb7d0a6d7ff30|812de6048aaee8d422ed20f7ccc416553a26e7175856df9c8f8e8275dd3f43f4|\n",
      "|QQQ   |NASDAQ      |USD     |ETF |America/New_York|39204000|399.82001 |396.22000|399.60999 |398.17001 |2021-12-08|true         |false        |2025-04-20 18:52:52.785384|2099-12-31 00:00:00   |2025-04-20 18:52:52.92234|a860f95315e2d7c5eabc3e83b449e21fff5cc1ba355942029ca0ae807af51ed8|e65cbdbe0d317194dbf3af6ac258932a4ee3503c346073beb39ffa4108afe32c|\n",
      "|QQQ   |NASDAQ      |USD     |ETF |America/New_York|59722700|346.38000 |339.92001|345.34000 |339.97000 |2021-06-17|true         |false        |2025-04-20 18:52:52.785384|2099-12-31 00:00:00   |2025-04-20 18:52:52.92234|5f0bc269bc0da67c44f8314db8cbda134fbb727387ebc4e6bfbe987adc1d1a66|9c69d5b9ef6976fe02e55b6705d558fac47fa9fa38a6a352263226bc870d409b|\n",
      "|QQQ   |NASDAQ      |USD     |ETF |America/New_York|32046400|332.48001 |329.37000|331.62000 |330.32999 |2021-04-07|true         |false        |2025-04-20 18:52:52.785384|2099-12-31 00:00:00   |2025-04-20 18:52:52.92234|4122ea9a7c120bab4cf88ee70ebac7a45d92011691a622185efb37619128ed9c|a6fe5b5ce363273d73bb29122f532c516fe103753d535995cef1ef72503b4ca6|\n",
      "|QQQ   |NASDAQ      |USD     |ETF |America/New_York|31360300|335.66000 |330.17001|333.92999 |332.47000 |2021-02-17|true         |false        |2025-04-20 18:52:52.785384|2099-12-31 00:00:00   |2025-04-20 18:52:52.92234|25bc3d17ed08193c7cbbdf94f7bbf93a44922f4ed1f8972d72df8ab1d45e0506|06c844f9f0ef536101d2bc2f346967af64479039ccb72d12ea0640c2d14a6c69|\n",
      "|QQQ   |NASDAQ      |USD     |ETF |America/New_York|19336200|369.16000 |367.38000|368.82001 |367.89001 |2021-08-13|true         |false        |2025-04-20 18:52:52.785384|2099-12-31 00:00:00   |2025-04-20 18:52:52.92234|df4122a25a434b50457445d0dcf1bb8cccf9f9f892c0b479ba9f4cabd9370fed|0b29bee12abf3a11cd717222d30f191923e619681112c9043f5218e84a2713b4|\n",
      "|QQQ   |NASDAQ      |USD     |ETF |America/New_York|32724000|355.23001 |353.82999|354.42999 |354.82999 |2021-06-30|true         |false        |2025-04-20 18:52:52.785384|2099-12-31 00:00:00   |2025-04-20 18:52:52.92234|4a974bdd0a6b708f8905b469b95d1517a4c9c70bc3de2e606b0e1089ae63eacf|ee1f9f2354d1e94ba97fc29ba8d5e9f7fd68c12ee9e676ffcae2bff18549cc9d|\n",
      "|QQQ   |NASDAQ      |USD     |ETF |America/New_York|23500100|317.53000 |313.85999|314.35001 |316.5     |2021-01-14|true         |false        |2025-04-20 18:52:52.785384|2099-12-31 00:00:00   |2025-04-20 18:52:52.92234|a88f32f02003328063d9637b0c008b16f1b713a8da897d05794f3d0c4934473f|579f7dd3f58d26a996cb12534d0885542c0ce0d69e2978370c35efa307beaca4|\n",
      "|QQQ   |NASDAQ      |USD     |ETF |America/New_York|32581600|351.45999 |349.17001|349.89001 |349.73001 |2021-06-24|true         |false        |2025-04-20 18:52:52.785384|2099-12-31 00:00:00   |2025-04-20 18:52:52.92234|32cc56f58fe6784b914c1354de00ed4d6a793e728cdcd637a463c71e6921a87a|783c8c9b4074e83923dd2ca7591a7b4e74bcfffad10f43b0587aa12a572c3483|\n",
      "|QQQ   |NASDAQ      |USD     |ETF |America/New_York|38081800|339.51999 |334.38000|336.41000 |338.20001 |2021-04-20|true         |false        |2025-04-20 18:52:52.785384|2099-12-31 00:00:00   |2025-04-20 18:52:52.92234|a9f564be83ebbfdb40f2c9ae85157caea34e43789a9943cea020ec4840a8af1e|c71a360d9fb08b0bd495fa73c3e4566d4978bbc1e829294518f8ff5a3b44192a|\n",
      "|QQQ   |NASDAQ      |USD     |ETF |America/New_York|33716900|396.23999 |392.10001|394.60999 |395.91000 |2021-11-15|true         |false        |2025-04-20 18:52:52.785384|2099-12-31 00:00:00   |2025-04-20 18:52:52.92234|dd74702a7dfda191c45f8130eaeb632a36079d80a7538fb4325a85f88ae790b3|90a16a778269ba603200c85391520ad5249983cbcafa67168ea33af7c15edf4d|\n",
      "|QQQ   |NASDAQ      |USD     |ETF |America/New_York|29927400|335.57001 |333.60001|333.92999 |334.12000 |2021-05-28|true         |false        |2025-04-20 18:52:52.785384|2099-12-31 00:00:00   |2025-04-20 18:52:52.92234|b79a20beb177d7094006101fb43e11571aff5a7188d0a92660dcac32dd5e7164|0962ec8b0d1753956c885f91dcd48a34f2e1b336c00e3659b51e2a85d744ab83|\n",
      "|QQQ   |NASDAQ      |USD     |ETF |America/New_York|37310100|386.28000 |380.70001|386.10999 |381.059998|2021-10-29|true         |false        |2025-04-20 18:52:52.785384|2099-12-31 00:00:00   |2025-04-20 18:52:52.92234|3255bd784b6f3ecc1ca1b96130b060797f00812575d1755b167da9224e7dac0a|360d065a7ff6321994095c23901045ee08edecbbdbc6c282cb83a64d5727061c|\n",
      "|QQQ   |NASDAQ      |USD     |ETF |America/New_York|57933100|368.22000 |360.16000|364.42999 |368.22000 |2021-07-27|true         |false        |2025-04-20 18:52:52.785384|2099-12-31 00:00:00   |2025-04-20 18:52:52.92234|1e36518f4c5b48963ae6253f2a6a53f1452e85a2f0be1ab46822d810cc1613b0|cd61bb293388ca700c6ca495f56f12467fc26545a668753b90c9ea7ffce4a052|\n",
      "|QQQ   |NASDAQ      |USD     |ETF |America/New_York|20462800|333.73999 |331.41000|333.57999 |333.10001 |2021-02-08|true         |false        |2025-04-20 18:52:52.785384|2099-12-31 00:00:00   |2025-04-20 18:52:52.92234|08d01e9378ad90261bb6195cb4d591786a8192b3c6e4420cf6b0ec7ac3982b0b|a5c6301069019e5f55f5060fcaaf417e19f695f1240bfa01b41a9b5701e4b933|\n",
      "|QQQ   |NASDAQ      |USD     |ETF |America/New_York|29290000|355.089996|352.67999|354.57001 |354.070007|2021-07-01|true         |false        |2025-04-20 18:52:52.785384|2099-12-31 00:00:00   |2025-04-20 18:52:52.92234|539f494871dae1b9eb248efceddfcfb6c4aa5779d8ea22c5f7a727b48cf63154|3c88bbd03e01cc972ce6e348816223cb6b2c6398009d5702c12f16cc9a38b041|\n",
      "|QQQ   |NASDAQ      |USD     |ETF |America/New_York|27827700|344.51999 |340.45999|344.51001 |341.67999 |2021-06-14|true         |false        |2025-04-20 18:52:52.785384|2099-12-31 00:00:00   |2025-04-20 18:52:52.92234|878b443932eed2cc0c4956411ad85b41b3d91142ed2cfcb9bd9cfd0ff8a0cb90|456d1f021657e4fd4baf15ffd54016cfd8ae1cf618509ea9ba037d68eb72ce66|\n",
      "+------+------------+--------+----+----------------+--------+----------+---------+----------+----------+----------+-------------+-------------+--------------------------+----------------------+-------------------------+----------------------------------------------------------------+----------------------------------------------------------------+\n",
      "only showing top 20 rows\n",
      "\n"
     ]
    },
    {
     "name": "stderr",
     "output_type": "stream",
     "text": [
      "25/04/20 18:52:54 WARN package: Truncated the string representation of a plan since it was too large. This behavior can be adjusted by setting 'spark.sql.debug.maxToStringFields'.\n",
      "25/04/20 18:52:56 WARN MergeIntoCommand: Merge source has SQLMetric(id: 1257, name: Some(number of source rows), value: 502) rows in initial scan but SQLMetric(id: 1258, name: Some(number of source rows (during repeated scan)), value: 0) rows in second scan\n"
     ]
    }
   ],
   "source": [
    "parameters = {\n",
    "        \"businessColumns\" : \"Symbol,ExchangeName,Currency,Date\",\n",
    "        \"typeIColumns\" : \"Symbol\"\n",
    "        }\n",
    "\n",
    "scd2Handler =  SCDType2Handler(parameters)\n",
    "scd2Handler.refresh_timestamp()\n",
    "add_audit_columns =  scd2Handler.add_audit_columns\n",
    "\n",
    "df_bronze = df_bronze.transform(add_audit_columns)\n",
    "\n",
    "# df_bronze_audit = df_bronze.transform(scd2Handler.add_audit_columns)\n",
    "# df_bronze_audit.show()\n",
    "df_bronze.show(truncate=False)\n",
    "deltaTable = DeltaTable.forPath(spark, silver_path)\n",
    "scd2Handler.delta_merge_typeII(deltaTable, df_bronze)"
   ]
  },
  {
   "cell_type": "code",
   "execution_count": null,
   "metadata": {},
   "outputs": [],
   "source": [
    "# df_history = spark.sql(f\"\"\"\n",
    "#     DESCRIBE HISTORY delta.`{silver_path}` \n",
    "#     LIMIT 1\n",
    "# \"\"\")\n",
    "\n",
    "# df_history = df_history.select(\"operationMetrics\").head()[0]\n",
    "\n",
    "\n",
    "# audit =   { \"outputrows\" :  df_history[\"numOutputRows\"],\n",
    "#             \"inserted\": df_history[\"numTargetRowsInserted\"],\n",
    "#             \"updated\": df_history[\"numTargetRowsUpdated\"],\n",
    "#             \"deleted\": df_history[\"numTargetRowsDeleted\"] }\n",
    "        \n",
    "\n",
    "# audit = { key : value for key, value  in audit.items() if value != '0' }\n",
    "\n",
    "# audit"
   ]
  },
  {
   "cell_type": "code",
   "execution_count": null,
   "metadata": {},
   "outputs": [],
   "source": []
  },
  {
   "cell_type": "code",
   "execution_count": null,
   "metadata": {},
   "outputs": [],
   "source": []
  },
  {
   "cell_type": "code",
   "execution_count": null,
   "metadata": {},
   "outputs": [],
   "source": [
    "spark.sql(\"show tables\").show()\n"
   ]
  },
  {
   "cell_type": "code",
   "execution_count": null,
   "metadata": {},
   "outputs": [],
   "source": []
  },
  {
   "cell_type": "code",
   "execution_count": null,
   "metadata": {},
   "outputs": [],
   "source": []
  }
 ],
 "metadata": {
  "kernelspec": {
   "display_name": ".venv",
   "language": "python",
   "name": "python3"
  },
  "language_info": {
   "codemirror_mode": {
    "name": "ipython",
    "version": 3
   },
   "file_extension": ".py",
   "mimetype": "text/x-python",
   "name": "python",
   "nbconvert_exporter": "python",
   "pygments_lexer": "ipython3",
   "version": "3.11.11"
  }
 },
 "nbformat": 4,
 "nbformat_minor": 2
}
