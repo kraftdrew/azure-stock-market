{
 "cells": [
  {
   "cell_type": "code",
   "execution_count": 0,
   "metadata": {
    "application/vnd.databricks.v1+cell": {
     "cellMetadata": {},
     "inputWidgets": {},
     "nuid": "f190b14d-0a75-4613-9671-09089b9ded4d",
     "showTitle": false,
     "tableResultSettingsMap": {},
     "title": ""
    }
   },
   "outputs": [],
   "source": [
    "%pip install /dbfs/FileStore/libs/helper_methods_stocks-0.1.0-py3-none-any.whl"
   ]
  },
  {
   "cell_type": "code",
   "execution_count": 0,
   "metadata": {
    "application/vnd.databricks.v1+cell": {
     "cellMetadata": {
      "byteLimit": 2048000,
      "rowLimit": 10000
     },
     "inputWidgets": {},
     "nuid": "47f2d297-be8d-488f-a90d-fdc5b8b3c44f",
     "showTitle": false,
     "tableResultSettingsMap": {},
     "title": ""
    }
   },
   "outputs": [],
   "source": [
    "from helper_methods_stocks import GetStockData,SCDType2Handler\n",
    "import json"
   ]
  },
  {
   "cell_type": "markdown",
   "metadata": {
    "application/vnd.databricks.v1+cell": {
     "cellMetadata": {},
     "inputWidgets": {},
     "nuid": "2596ec08-fa35-46af-83ec-6faf5b9276fa",
     "showTitle": false,
     "tableResultSettingsMap": {},
     "title": ""
    }
   },
   "source": [
    "## All Above to be removed"
   ]
  },
  {
   "cell_type": "code",
   "execution_count": 0,
   "metadata": {
    "application/vnd.databricks.v1+cell": {
     "cellMetadata": {
      "byteLimit": 2048000,
      "rowLimit": 10000
     },
     "inputWidgets": {},
     "nuid": "ac20c573-f38b-49f6-a99b-d0583b1c786c",
     "showTitle": false,
     "tableResultSettingsMap": {},
     "title": ""
    }
   },
   "outputs": [],
   "source": [
    "\n",
    "from pyspark.sql.functions import col, explode # lit, cast  \n",
    "from pyspark.sql.types import DateType, TimestampType   # sha2,concat_ws,trim, lit\n",
    "\n",
    "from delta.tables import DeltaTable\n",
    "\n"
   ]
  },
  {
   "cell_type": "code",
   "execution_count": 0,
   "metadata": {
    "application/vnd.databricks.v1+cell": {
     "cellMetadata": {
      "byteLimit": 2048000,
      "rowLimit": 10000
     },
     "inputWidgets": {},
     "nuid": "f85dacf7-16d3-46ab-8fe7-b51f9f39f4c2",
     "showTitle": false,
     "tableResultSettingsMap": {},
     "title": ""
    }
   },
   "outputs": [],
   "source": [
    "api_key = dbutils.secrets.get(scope=\"kv-stock-market\", key=\"twelvedata-apikey\")\n",
    "getstocks = GetStockData(api_key)\n",
    "\n",
    "# stock_data = getstocks.get_historical_stock_data()\n",
    "# print( json.dumps(stock_data, indent=4)) \n"
   ]
  },
  {
   "cell_type": "markdown",
   "metadata": {
    "application/vnd.databricks.v1+cell": {
     "cellMetadata": {},
     "inputWidgets": {},
     "nuid": "08626ff9-e866-4c42-9925-a1969d302583",
     "showTitle": false,
     "tableResultSettingsMap": {},
     "title": ""
    }
   },
   "source": [
    "### Initiate Spark"
   ]
  },
  {
   "cell_type": "code",
   "execution_count": 0,
   "metadata": {
    "application/vnd.databricks.v1+cell": {
     "cellMetadata": {
      "byteLimit": 2048000,
      "rowLimit": 10000
     },
     "inputWidgets": {},
     "nuid": "d6fbf61d-853e-4448-9a59-939c8a3a69de",
     "showTitle": false,
     "tableResultSettingsMap": {},
     "title": ""
    }
   },
   "outputs": [],
   "source": [
    "\n",
    "\n",
    "\n",
    "# Paths for Bronze and Silver data\n",
    "bronze_path = \"abfss://bronze@andrewstockmarket.dfs.core.windows.net/\"  # Bronze data stored in Parquet or Delta\n",
    "silver_path = \"abfss://silver@andrewstockmarket.dfs.core.windows.net/\"  # Target location for Silver Delta table\n",
    "\n"
   ]
  },
  {
   "cell_type": "code",
   "execution_count": 0,
   "metadata": {
    "application/vnd.databricks.v1+cell": {
     "cellMetadata": {
      "byteLimit": 2048000,
      "rowLimit": 10000
     },
     "inputWidgets": {},
     "nuid": "50fa02eb-3d2c-4d71-95c1-c9505c13cd0e",
     "showTitle": false,
     "tableResultSettingsMap": {},
     "title": ""
    }
   },
   "outputs": [],
   "source": [
    "# dbutils.fs.ls(bronze_path) "
   ]
  },
  {
   "cell_type": "markdown",
   "metadata": {
    "application/vnd.databricks.v1+cell": {
     "cellMetadata": {},
     "inputWidgets": {},
     "nuid": "7e3fd4c8-fd09-49e7-ae8d-631a4dfff6a8",
     "showTitle": false,
     "tableResultSettingsMap": {},
     "title": ""
    }
   },
   "source": [
    "### Get Data from API"
   ]
  },
  {
   "cell_type": "code",
   "execution_count": 0,
   "metadata": {
    "application/vnd.databricks.v1+cell": {
     "cellMetadata": {
      "byteLimit": 2048000,
      "rowLimit": 10000
     },
     "inputWidgets": {},
     "nuid": "2b879631-2e19-4edd-8e74-80afe12609ad",
     "showTitle": false,
     "tableResultSettingsMap": {},
     "title": ""
    }
   },
   "outputs": [],
   "source": [
    "json_data  = getstocks.get_historical_stock_data()\n",
    "\n",
    "df = spark.createDataFrame(json_data)  \n",
    "df = df.withColumn(\"symbol\", col(\"meta\").symbol).filter( col(\"status\") == \"ok\" ).drop(df.status)\n",
    "df.cache()\n",
    "df.count()\n",
    "display(df)\n"
   ]
  },
  {
   "cell_type": "code",
   "execution_count": 0,
   "metadata": {
    "application/vnd.databricks.v1+cell": {
     "cellMetadata": {
      "byteLimit": 2048000,
      "rowLimit": 10000
     },
     "inputWidgets": {},
     "nuid": "c9fd7473-812a-43aa-bf3c-1acdfef82ab3",
     "showTitle": false,
     "tableResultSettingsMap": {},
     "title": ""
    }
   },
   "outputs": [],
   "source": [
    "\n",
    "\n",
    "df.write \\\n",
    "    .format(\"parquet\") \\\n",
    "    .mode(\"overwrite\") \\\n",
    "    .partitionBy( \"symbol\" ) \\\n",
    "    .save(bronze_path)\n",
    "\n"
   ]
  },
  {
   "cell_type": "markdown",
   "metadata": {
    "application/vnd.databricks.v1+cell": {
     "cellMetadata": {},
     "inputWidgets": {},
     "nuid": "09233bb6-30bd-47fc-bd29-c14b3d7014b1",
     "showTitle": false,
     "tableResultSettingsMap": {},
     "title": ""
    }
   },
   "source": [
    "### Bronze -> Silver"
   ]
  },
  {
   "cell_type": "code",
   "execution_count": 0,
   "metadata": {
    "application/vnd.databricks.v1+cell": {
     "cellMetadata": {
      "byteLimit": 2048000,
      "rowLimit": 10000
     },
     "inputWidgets": {},
     "nuid": "2a2a4301-3608-48a4-b76f-687d406044a5",
     "showTitle": false,
     "tableResultSettingsMap": {},
     "title": ""
    }
   },
   "outputs": [],
   "source": [
    "\n",
    "\n",
    "\n",
    "### Tranformt Bronze -> Silver\n",
    "\n",
    "df_bronze = spark.read.format(\"parquet\").load(bronze_path).drop(\"symbol\")\n",
    "\n",
    "df_bronze = df_bronze.withColumn( \"values\", explode(\"values\") )\n",
    "\n",
    "df_bronze = df_bronze.select(\n",
    "    col(\"meta\").getItem(\"symbol\").alias(\"Symbol\"),\n",
    "    col(\"meta\").getItem(\"exchange\").alias(\"ExchangeName\"),\n",
    "    col(\"meta\").getItem(\"currency\").alias(\"Currency\"),\n",
    "    col(\"meta\").getItem(\"type\").alias(\"Type\"),\n",
    "    col(\"meta\").getItem(\"exchange_timezone\").alias(\"ExchangeTimeZone\"),\n",
    "    col(\"values\").getItem(\"volume\").alias(\"Volume\"),\n",
    "    col(\"values\").getItem(\"high\").alias(\"High\"),\n",
    "    col(\"values\").getItem(\"low\").alias(\"Low\"),\n",
    "    col(\"values\").getItem(\"close\").alias(\"Close\"),\n",
    "    col(\"values\").getItem(\"open\").alias(\"Open\"),\n",
    "    col(\"values\").getItem(\"datetime\").alias(\"Date\"))\n",
    "\n",
    "df_bronze = df_bronze.dropDuplicates()\n",
    "\n",
    "\n",
    "# df_bronze.show()\n"
   ]
  },
  {
   "cell_type": "code",
   "execution_count": 0,
   "metadata": {
    "application/vnd.databricks.v1+cell": {
     "cellMetadata": {
      "byteLimit": 2048000,
      "rowLimit": 10000
     },
     "inputWidgets": {},
     "nuid": "8ffe0055-e5fb-4423-8337-8e37d45be146",
     "showTitle": false,
     "tableResultSettingsMap": {},
     "title": ""
    }
   },
   "outputs": [],
   "source": [
    "\n",
    "\n",
    "parameters = {\n",
    "        \"businessColumns\" : \"Symbol,ExchangeName,Currency,Date\",\n",
    "        \"typeIColumns\" : \"\",\n",
    "        \"tableType\" : \"Stage\"\n",
    "        }\n",
    "\n",
    "scd2Handler =  SCDType2Handler(parameters)\n",
    "scd2Handler.refresh_timestamp()\n",
    "add_audit_columns =  scd2Handler.add_audit_columns\n",
    "\n",
    "df_bronze = df_bronze.transform(add_audit_columns)\n",
    "\n",
    "\n",
    "display(df_bronze)\n",
    "deltaTable = DeltaTable.forPath(spark, silver_path)\n",
    "scd2Handler.delta_merge_typeII(deltaTable, df_bronze)"
   ]
  },
  {
   "cell_type": "code",
   "execution_count": 0,
   "metadata": {
    "application/vnd.databricks.v1+cell": {
     "cellMetadata": {},
     "inputWidgets": {},
     "nuid": "66a7c872-9017-4962-a724-20452d55b7e3",
     "showTitle": false,
     "tableResultSettingsMap": {},
     "title": ""
    }
   },
   "outputs": [],
   "source": [
    "\n",
    "\n",
    "# df_history = spark.sql(f\" select count(*) from  delta.`{silver_path}`  \")\n",
    "  \n",
    "# df_history.show()\n",
    "\n"
   ]
  }
 ],
 "metadata": {
  "application/vnd.databricks.v1+notebook": {
   "computePreferences": null,
   "dashboards": [],
   "environmentMetadata": null,
   "inputWidgetPreferences": null,
   "language": "python",
   "notebookMetadata": {
    "pythonIndentUnit": 4
   },
   "notebookName": "Raw_to_Silver",
   "widgets": {}
  },
  "kernelspec": {
   "display_name": ".venv",
   "language": "python",
   "name": "python3"
  },
  "language_info": {
   "name": "python"
  }
 },
 "nbformat": 4,
 "nbformat_minor": 0
}
