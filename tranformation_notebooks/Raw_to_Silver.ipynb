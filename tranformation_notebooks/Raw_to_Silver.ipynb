{
 "cells": [
  {
   "cell_type": "code",
   "execution_count": 0,
   "metadata": {
    "application/vnd.databricks.v1+cell": {
     "cellMetadata": {
      "byteLimit": 2048000,
      "rowLimit": 10000
     },
     "inputWidgets": {},
     "nuid": "f190b14d-0a75-4613-9671-09089b9ded4d",
     "showTitle": false,
     "tableResultSettingsMap": {},
     "title": ""
    }
   },
   "outputs": [],
   "source": [
    "%pip install /dbfs/FileStore/libs/common_stock_classes-0.1.0-py3-none-any.whl --force-reinstall\n"
   ]
  },
  {
   "cell_type": "code",
   "execution_count": 0,
   "metadata": {
    "application/vnd.databricks.v1+cell": {
     "cellMetadata": {
      "byteLimit": 2048000,
      "rowLimit": 10000
     },
     "inputWidgets": {},
     "nuid": "47f2d297-be8d-488f-a90d-fdc5b8b3c44f",
     "showTitle": false,
     "tableResultSettingsMap": {},
     "title": ""
    }
   },
   "outputs": [],
   "source": [
    "from common_stock_classes  import SCDType2Handler, GetStockData\n",
    "import json\n",
    "from pyspark.sql.functions import col, explode\n",
    "from pyspark.sql.types import DateType, TimestampType \n",
    "from delta.tables import DeltaTable"
   ]
  },
  {
   "cell_type": "code",
   "execution_count": 0,
   "metadata": {
    "application/vnd.databricks.v1+cell": {
     "cellMetadata": {
      "byteLimit": 2048000,
      "rowLimit": 10000
     },
     "inputWidgets": {},
     "nuid": "f85dacf7-16d3-46ab-8fe7-b51f9f39f4c2",
     "showTitle": false,
     "tableResultSettingsMap": {},
     "title": ""
    }
   },
   "outputs": [],
   "source": [
    "api_key = dbutils.secrets.get(scope=\"kv-stock-market\", key=\"twelvedata-apikey\")\n",
    "getstocks = GetStockData(api_key)\n",
    "\n",
    "bronze_path = \"abfss://bronze@andrewstockmarket.dfs.core.windows.net/\"  # Bronze data stored in Parquet or Delta\n",
    "silver_path = \"abfss://silver@andrewstockmarket.dfs.core.windows.net/delta-tables/main\"  # Target location for Silver Delta table\n",
    "\n",
    "# stock_data = getstocks.get_historical_stock_data()\n",
    "# print( json.dumps(stock_data, indent=4)) \n"
   ]
  },
  {
   "cell_type": "markdown",
   "metadata": {
    "application/vnd.databricks.v1+cell": {
     "cellMetadata": {
      "byteLimit": 2048000,
      "rowLimit": 10000
     },
     "inputWidgets": {},
     "nuid": "7e3fd4c8-fd09-49e7-ae8d-631a4dfff6a8",
     "showTitle": false,
     "tableResultSettingsMap": {},
     "title": ""
    }
   },
   "source": [
    "### Get Data from API"
   ]
  },
  {
   "cell_type": "code",
   "execution_count": 0,
   "metadata": {
    "application/vnd.databricks.v1+cell": {
     "cellMetadata": {
      "byteLimit": 2048000,
      "rowLimit": 10000
     },
     "inputWidgets": {},
     "nuid": "2b879631-2e19-4edd-8e74-80afe12609ad",
     "showTitle": false,
     "tableResultSettingsMap": {},
     "title": ""
    }
   },
   "outputs": [],
   "source": [
    "\n",
    "\n",
    "year_ranges = [\n",
    "    {\"start_date\": \"2019-01-01\", \"end_date\": \"2019-12-31\"},\n",
    "    {\"start_date\": \"2020-01-01\", \"end_date\": \"2020-12-31\"},\n",
    "    {\"start_date\": \"2021-01-01\", \"end_date\": \"2021-12-31\"},\n",
    "    {\"start_date\": \"2022-01-01\", \"end_date\": \"2022-12-31\"},\n",
    "    {\"start_date\": \"2023-01-01\", \"end_date\": \"2023-12-31\"},\n",
    "    {\"start_date\": \"2024-01-01\", \"end_date\": \"2024-12-31\"},\n",
    "    {\"start_date\": \"2025-01-01\", \"end_date\": \"2025-12-31\"},\n",
    "]\n",
    "\n",
    "for year_range in year_ranges:\n",
    "\n",
    "\n",
    "    symbols = [[\"VOO\",\"TSLA\", \"TM\", \"F\",\"AAPL\"], [\"MSFT\", \"NVDA\", \"JPM\", \"GS\", \"MS\"] ] \n",
    "\n",
    "    for symbol_list in symbols:\n",
    "        json_data  = getstocks.get_historical_stock_data(symbols= symbol_list, **year_range)\n",
    "\n",
    "        df = spark.createDataFrame(json_data)  \n",
    "        df = df.withColumn(\"symbol\", col(\"meta\").symbol).filter( col(\"status\") == \"ok\" ).drop(df.status)\n",
    "\n",
    "        df.cache()\n",
    "        df.count()\n",
    "\n",
    "        # display ( df )\n",
    "\n",
    "        df.write \\\n",
    "            .format(\"parquet\") \\\n",
    "            .mode(\"overwrite\") \\\n",
    "            .partitionBy( \"symbol\"  ) \\\n",
    "            .save(bronze_path)\n",
    "\n",
    "                \n",
    "    ### Tranformt Bronze -> Silver\n",
    "    df_bronze = spark.read.format(\"parquet\").load(bronze_path).drop(\"symbol\")\n",
    "    df_bronze = df_bronze.withColumn( \"values\", explode(\"values\") )\n",
    "    df_bronze = df_bronze.select(\n",
    "        col(\"meta\").getItem(\"symbol\").alias(\"Symbol\"),\n",
    "        col(\"meta\").getItem(\"exchange\").alias(\"ExchangeName\"),\n",
    "        col(\"meta\").getItem(\"currency\").alias(\"Currency\"),\n",
    "        col(\"meta\").getItem(\"type\").alias(\"Type\"),\n",
    "        col(\"meta\").getItem(\"exchange_timezone\").alias(\"ExchangeTimeZone\"),\n",
    "        col(\"values\").getItem(\"volume\").alias(\"Volume\"),\n",
    "        col(\"values\").getItem(\"high\").alias(\"High\"),\n",
    "        col(\"values\").getItem(\"low\").alias(\"Low\"),\n",
    "        col(\"values\").getItem(\"close\").alias(\"Close\"),\n",
    "        col(\"values\").getItem(\"open\").alias(\"Open\"),\n",
    "        col(\"values\").getItem(\"datetime\").alias(\"Date\"))\n",
    "    df_bronze = df_bronze.dropDuplicates()\n",
    "    parameters = {\n",
    "            \"businessColumns\" : \"Symbol,ExchangeName,Currency,Date\",\n",
    "            \"typeIColumns\" : \"\",\n",
    "            \"tableType\" : \"Stage\"\n",
    "            }\n",
    "    scd2Handler =  SCDType2Handler(parameters)\n",
    "    scd2Handler.refresh_timestamp()\n",
    "    add_audit_columns =  scd2Handler.add_audit_columns\n",
    "    df_bronze = df_bronze.transform(add_audit_columns)\n",
    "    deltaTable = DeltaTable.forPath(spark, silver_path)\n",
    "    scd2Handler.delta_merge_typeII(deltaTable, df_bronze)\n",
    "\n",
    "\n",
    "\n"
   ]
  },
  {
   "cell_type": "code",
   "execution_count": 0,
   "metadata": {
    "application/vnd.databricks.v1+cell": {
     "cellMetadata": {
      "byteLimit": 2048000,
      "implicitDf": true,
      "rowLimit": 10000
     },
     "inputWidgets": {},
     "nuid": "3671b24d-b73c-4738-beb3-c8d8dbc1c8e1",
     "showTitle": false,
     "tableResultSettingsMap": {},
     "title": ""
    }
   },
   "outputs": [],
   "source": [
    "# %sql\n",
    "# select * from stocks.silver.silver_table limit  10 "
   ]
  },
  {
   "cell_type": "code",
   "execution_count": 0,
   "metadata": {
    "application/vnd.databricks.v1+cell": {
     "cellMetadata": {
      "byteLimit": 2048000,
      "implicitDf": true,
      "rowLimit": 10000
     },
     "inputWidgets": {},
     "nuid": "e42d7a9b-a02e-44c0-9fbc-eb2eed9292d4",
     "showTitle": false,
     "tableResultSettingsMap": {},
     "title": ""
    }
   },
   "outputs": [],
   "source": [
    "display(df_bronze)"
   ]
  },
  {
   "cell_type": "markdown",
   "metadata": {
    "application/vnd.databricks.v1+cell": {
     "cellMetadata": {
      "byteLimit": 2048000,
      "rowLimit": 10000
     },
     "inputWidgets": {},
     "nuid": "09233bb6-30bd-47fc-bd29-c14b3d7014b1",
     "showTitle": false,
     "tableResultSettingsMap": {},
     "title": ""
    }
   },
   "source": [
    "### Bronze -> Silver"
   ]
  },
  {
   "cell_type": "code",
   "execution_count": 0,
   "metadata": {
    "application/vnd.databricks.v1+cell": {
     "cellMetadata": {
      "byteLimit": 2048000,
      "rowLimit": 10000
     },
     "inputWidgets": {},
     "nuid": "2a2a4301-3608-48a4-b76f-687d406044a5",
     "showTitle": false,
     "tableResultSettingsMap": {},
     "title": ""
    }
   },
   "outputs": [],
   "source": [
    "\n",
    "### Tranformt Bronze -> Silver\n",
    "\n",
    "df_bronze = spark.read.format(\"parquet\").load(bronze_path).drop(\"symbol\")\n",
    "\n",
    "\n",
    "df_bronze = df_bronze.withColumn( \"values\", explode(\"values\") )\n",
    "\n",
    "df_bronze = df_bronze.select(\n",
    "    col(\"meta\").getItem(\"symbol\").alias(\"Symbol\"),\n",
    "    col(\"meta\").getItem(\"exchange\").alias(\"ExchangeName\"),\n",
    "    col(\"meta\").getItem(\"currency\").alias(\"Currency\"),\n",
    "    col(\"meta\").getItem(\"type\").alias(\"Type\"),\n",
    "    col(\"meta\").getItem(\"exchange_timezone\").alias(\"ExchangeTimeZone\"),\n",
    "    col(\"values\").getItem(\"volume\").alias(\"Volume\"),\n",
    "    col(\"values\").getItem(\"high\").alias(\"High\"),\n",
    "    col(\"values\").getItem(\"low\").alias(\"Low\"),\n",
    "    col(\"values\").getItem(\"close\").alias(\"Close\"),\n",
    "    col(\"values\").getItem(\"open\").alias(\"Open\"),\n",
    "    col(\"values\").getItem(\"datetime\").alias(\"Date\"))\n",
    "\n",
    "df_bronze = df_bronze.dropDuplicates()\n",
    "\n",
    "\n",
    "parameters = {\n",
    "        \"businessColumns\" : \"Symbol,ExchangeName,Currency,Date\",\n",
    "        \"typeIColumns\" : \"\",\n",
    "        \"tableType\" : \"Stage\"\n",
    "        }\n",
    "\n",
    "scd2Handler =  SCDType2Handler(parameters)\n",
    "scd2Handler.refresh_timestamp()\n",
    "add_audit_columns =  scd2Handler.add_audit_columns\n",
    "\n",
    "df_bronze = df_bronze.transform(add_audit_columns)\n",
    "\n",
    "\n",
    "deltaTable = DeltaTable.forPath(spark, silver_path)\n",
    "scd2Handler.delta_merge_typeII(deltaTable, df_bronze)\n",
    "\n"
   ]
  },
  {
   "cell_type": "code",
   "execution_count": 0,
   "metadata": {
    "application/vnd.databricks.v1+cell": {
     "cellMetadata": {
      "byteLimit": 2048000,
      "rowLimit": 10000
     },
     "inputWidgets": {},
     "nuid": "66a7c872-9017-4962-a724-20452d55b7e3",
     "showTitle": false,
     "tableResultSettingsMap": {},
     "title": ""
    }
   },
   "outputs": [],
   "source": [
    "\n",
    "\n",
    "# df_history = spark.sql(f\" select count(*) from  delta.`{silver_path}`  \")\n",
    "# df_history.show()\n"
   ]
  }
 ],
 "metadata": {
  "application/vnd.databricks.v1+notebook": {
   "computePreferences": null,
   "dashboards": [],
   "environmentMetadata": null,
   "inputWidgetPreferences": null,
   "language": "python",
   "notebookMetadata": {
    "mostRecentlyExecutedCommandWithImplicitDF": {
     "commandId": 7287256824983865,
     "dataframes": [
      "_sqldf"
     ]
    },
    "pythonIndentUnit": 4
   },
   "notebookName": "Raw_to_Silver",
   "widgets": {}
  },
  "kernelspec": {
   "display_name": ".venv",
   "language": "python",
   "name": "python3"
  },
  "language_info": {
   "name": "python"
  }
 },
 "nbformat": 4,
 "nbformat_minor": 0
}
