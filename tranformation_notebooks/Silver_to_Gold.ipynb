{
 "cells": [
  {
   "cell_type": "code",
   "execution_count": 0,
   "metadata": {
    "application/vnd.databricks.v1+cell": {
     "cellMetadata": {
      "byteLimit": 2048000,
      "rowLimit": 10000
     },
     "inputWidgets": {},
     "nuid": "0b3d4de2-78a4-4fb3-a837-9acfe6bd98ca",
     "showTitle": false,
     "tableResultSettingsMap": {},
     "title": ""
    }
   },
   "outputs": [],
   "source": [
    "# # No need to reintall if was installed in previous notebook on same cluster\n",
    "%pip install /dbfs/FileStore/libs/common_stock_classes-0.1.0-py3-none-any.whl --force-reinstall"
   ]
  },
  {
   "cell_type": "code",
   "execution_count": 0,
   "metadata": {
    "application/vnd.databricks.v1+cell": {
     "cellMetadata": {
      "byteLimit": 2048000,
      "rowLimit": 10000
     },
     "inputWidgets": {},
     "nuid": "9475c388-f5d7-4bdf-9b38-96da67eab19b",
     "showTitle": false,
     "tableResultSettingsMap": {},
     "title": ""
    }
   },
   "outputs": [],
   "source": [
    "\n",
    "from common_stock_classes  import  HelperMethods, SCDType2Handler\n",
    "from pyspark.sql.functions import col, explode, monotonically_increasing_id, lit, cast , concat, expr, date_format, sha2, concat_ws, sequence\n",
    "from pyspark.sql.types import DateType, TimestampType   # sha2,concat_ws,trim, lit\n",
    "from delta.tables import DeltaTable\n",
    "from datetime import  datetime, date, timedelta\n"
   ]
  },
  {
   "cell_type": "code",
   "execution_count": 0,
   "metadata": {
    "application/vnd.databricks.v1+cell": {
     "cellMetadata": {
      "byteLimit": 2048000,
      "rowLimit": 10000
     },
     "inputWidgets": {},
     "nuid": "ad0142ac-abb1-4e88-9d79-f39988c882b8",
     "showTitle": false,
     "tableResultSettingsMap": {},
     "title": ""
    }
   },
   "outputs": [],
   "source": [
    "\n",
    "\n",
    "silver_path = \"abfss://silver@andrewstockmarket.dfs.core.windows.net/delta-tables/main\"  # Target location for Silver Delta table\n",
    "dim_symbol_path = \"abfss://gold@andrewstockmarket.dfs.core.windows.net/delta-tables/dim-symbol\"\n",
    "fact_daily_path = \"abfss://gold@andrewstockmarket.dfs.core.windows.net/delta-tables/fact-daily-summary\"\n",
    "dimDate_folder = \"abfss://gold@andrewstockmarket.dfs.core.windows.net/delta-tables/dim-date\"\n",
    "\n"
   ]
  },
  {
   "cell_type": "code",
   "execution_count": 0,
   "metadata": {
    "application/vnd.databricks.v1+cell": {
     "cellMetadata": {
      "byteLimit": 2048000,
      "rowLimit": 10000
     },
     "inputWidgets": {},
     "nuid": "481e406d-06bc-4afa-a3bd-7c8db1d7238b",
     "showTitle": false,
     "tableResultSettingsMap": {},
     "title": ""
    }
   },
   "outputs": [],
   "source": [
    "## load data\n",
    "df_silver_c = spark.read.format(\"delta\").load(silver_path).filter(\"__lastmodified > current_date() - interval 10 days\")\n",
    "\n",
    "df_silver_c.cache()\n",
    "df_silver_c.count()\n"
   ]
  },
  {
   "cell_type": "markdown",
   "metadata": {
    "application/vnd.databricks.v1+cell": {
     "cellMetadata": {
      "byteLimit": 2048000,
      "rowLimit": 10000
     },
     "inputWidgets": {},
     "nuid": "2d4942b8-d2d1-43ca-88f3-06856cf94aef",
     "showTitle": false,
     "tableResultSettingsMap": {},
     "title": ""
    }
   },
   "source": [
    "## Dim Symbol"
   ]
  },
  {
   "cell_type": "code",
   "execution_count": 0,
   "metadata": {
    "application/vnd.databricks.v1+cell": {
     "cellMetadata": {
      "byteLimit": 2048000,
      "rowLimit": 10000
     },
     "inputWidgets": {},
     "nuid": "528f2cf6-6b7c-4ad1-84cc-27edffeda7de",
     "showTitle": false,
     "tableResultSettingsMap": {},
     "title": ""
    }
   },
   "outputs": [],
   "source": [
    "\n",
    "\n",
    "parameters = {\n",
    "        \"businessColumns\" : \"Symbol,ExchangeName,Currency\",\n",
    "        \"typeIColumns\" : \"\", \n",
    "        \"tableType\" : \"Dim\"\n",
    "        }\n",
    "\n",
    "scd2Handler =  SCDType2Handler(parameters)\n",
    "df_dimSymbol =  df_silver_c.select(\"Symbol\",\"ExchangeName\",\"Currency\", \"Type\", \"ExchangeTimeZone\").distinct()\n",
    "scd2Handler.refresh_timestamp()\n",
    "add_audit_columns =  scd2Handler.add_audit_columns\n",
    "\n",
    "\n",
    "df_dimSymbol = df_dimSymbol.alias(\"d\").join(spark.table(\"stocks.silver.symbol_lookup\").alias(\"l\") , on= \"Symbol\")\n",
    "df_dimSymbol = df_dimSymbol.transform(add_audit_columns)\n",
    "\n",
    "\n",
    "\n",
    "deltaTable = DeltaTable.forPath(spark, dim_symbol_path)\n",
    "scd2Handler.delta_merge_typeII(deltaTable, df_dimSymbol)\n",
    "\n"
   ]
  },
  {
   "cell_type": "markdown",
   "metadata": {
    "application/vnd.databricks.v1+cell": {
     "cellMetadata": {
      "byteLimit": 2048000,
      "rowLimit": 10000
     },
     "inputWidgets": {},
     "nuid": "20d4a868-bcb7-4a3e-a1f6-15d726de1bfa",
     "showTitle": false,
     "tableResultSettingsMap": {},
     "title": ""
    }
   },
   "source": [
    "## Fact Trading"
   ]
  },
  {
   "cell_type": "code",
   "execution_count": 0,
   "metadata": {
    "application/vnd.databricks.v1+cell": {
     "cellMetadata": {
      "byteLimit": 2048000,
      "rowLimit": 10000
     },
     "inputWidgets": {},
     "nuid": "532a7af9-5919-4540-9e85-090b755c1214",
     "showTitle": false,
     "tableResultSettingsMap": {},
     "title": ""
    }
   },
   "outputs": [],
   "source": [
    "\n",
    "\n",
    "df_dim_symbol_c = spark.table(f\"delta.`{dim_symbol_path}` \")\n",
    "df_dim_symbol_c.cache()\n",
    "df_dim_symbol_c.count()\n"
   ]
  },
  {
   "cell_type": "code",
   "execution_count": 0,
   "metadata": {
    "application/vnd.databricks.v1+cell": {
     "cellMetadata": {
      "byteLimit": 2048000,
      "rowLimit": 10000
     },
     "inputWidgets": {},
     "nuid": "4abe9306-6b82-41f5-bad7-4a265cca6339",
     "showTitle": false,
     "tableResultSettingsMap": {},
     "title": ""
    }
   },
   "outputs": [],
   "source": [
    "\n",
    "\n",
    "df_dim_symbol = df_dim_symbol_c.filter(\"__CurrentFlag = True\")\n",
    "df_fact = df_silver_c.filter(\"__CurrentFlag = True\")\n",
    "df_fact =  df_fact.withColumn(\"DateID\", date_format(col(\"Date\"), \"yyyyMMdd\").cast(\"int\")).drop(\"Date\")\n",
    "\n",
    "\n",
    "# Add Hash Key for Dim Symbol \n",
    "\n",
    "businessColumns  = [\"Symbol\", \"ExchangeName\", \"Currency\"] \n",
    "\n",
    "df_fact = df_fact.withColumn(\"DimSymbolBusinessHash\" , sha2( concat_ws(\"|\", *businessColumns), 256))\n",
    "\n",
    "\n",
    "df_fact = df_fact.alias(\"f\").join(df_dim_symbol.alias(\"d\"), on = expr(\"f.DimSymbolBusinessHash = d.__BusinessKeyHash\"), how = \"left\" ) \\\n",
    "                .selectExpr(\"d.SymbolSID\",\n",
    "                            \"f.Volume\", \n",
    "                            \"f.High\",\n",
    "                            \"f.Low\",\n",
    "                            \"f.Open\",\n",
    "                            \"f.Close\",\n",
    "                            \"f.DateID\"\n",
    "                )\n",
    "\n",
    "\n",
    "\n",
    "parameters = {\n",
    "        \"businessColumns\" : \"SymbolSID,DateID\",\n",
    "        \"typeIColumns\" : \"Volume,High,Low,Close,Open\", \n",
    "        \"tableType\" : \"Fact\"\n",
    "        }\n",
    "\n",
    "scd2Handler =  SCDType2Handler(parameters)\n",
    "\n",
    "scd2Handler.refresh_timestamp()\n",
    "add_audit_columns =  scd2Handler.add_audit_columns\n",
    "df_fact = df_fact.transform(add_audit_columns)\n",
    "\n",
    "deltaTable = DeltaTable.forPath(spark, fact_daily_path)\n",
    "scd2Handler.delta_merge_typeII(deltaTable, df_fact)\n",
    "\n",
    "\n"
   ]
  },
  {
   "cell_type": "markdown",
   "metadata": {
    "application/vnd.databricks.v1+cell": {
     "cellMetadata": {
      "byteLimit": 2048000,
      "rowLimit": 10000
     },
     "inputWidgets": {},
     "nuid": "6437463c-2306-4a2c-bc09-05231093fb91",
     "showTitle": false,
     "tableResultSettingsMap": {},
     "title": ""
    }
   },
   "source": [
    "## Populate Dim Table if needed"
   ]
  },
  {
   "cell_type": "code",
   "execution_count": 0,
   "metadata": {
    "application/vnd.databricks.v1+cell": {
     "cellMetadata": {
      "byteLimit": 2048000,
      "rowLimit": 10000
     },
     "inputWidgets": {},
     "nuid": "17674d25-cdd7-4216-9fb1-b0da6b89ce7d",
     "showTitle": false,
     "tableResultSettingsMap": {},
     "title": ""
    }
   },
   "outputs": [],
   "source": [
    "from datetime import datetime, timedelta\n",
    "\n",
    "hm = HelperMethods(spark=spark)\n",
    "df_dimdate = spark.read.format(\"delta\").load(dimDate_folder)\n",
    "\n",
    "\n",
    "max_date_dimDate =  df_dimdate.selectExpr(\" cast(max(date) as date) as max_date\").head()[0]\n",
    "min_date_silver =  df_silver_c.selectExpr(\" cast(min(date) as date) as min_date\").head()[0]\n",
    "max_date_silver =  df_silver_c.selectExpr(\" cast(max(date) as date) as max_date\").head()[0]\n",
    "end_date =  date( max_date_silver.year , 12, 31)\n",
    "\n",
    "if not max_date_dimDate: \n",
    "\n",
    "    hm.update_DimDate_fromRange(dimDate_path = dimDate_folder, end_date = end_date )\n",
    " \n",
    "\n",
    "## populate DimDate table if we dont have records with dates \n",
    "elif max_date_dimDate < max_date_silver:\n",
    "    \n",
    "    start_date = max_date_dimDate + timedelta(days=1)\n",
    "    \n",
    "    hm.update_DimDate_fromRange(dimDate_path = dimDate_folder, start_date = start_date, end_date = end_date )\n",
    "    \n",
    "    \n"
   ]
  }
 ],
 "metadata": {
  "application/vnd.databricks.v1+notebook": {
   "computePreferences": null,
   "dashboards": [],
   "environmentMetadata": null,
   "inputWidgetPreferences": null,
   "language": "python",
   "notebookMetadata": {
    "mostRecentlyExecutedCommandWithImplicitDF": {
     "commandId": 7287256824983864,
     "dataframes": [
      "_sqldf"
     ]
    },
    "pythonIndentUnit": 4
   },
   "notebookName": "Silver_to_Gold",
   "widgets": {}
  },
  "kernelspec": {
   "display_name": ".venv",
   "language": "python",
   "name": "python3"
  },
  "language_info": {
   "name": "python"
  }
 },
 "nbformat": 4,
 "nbformat_minor": 0
}
